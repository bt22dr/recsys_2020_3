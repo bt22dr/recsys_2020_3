{
 "cells": [
  {
   "cell_type": "markdown",
   "metadata": {},
   "source": [
    "<i><b>Public-AI</b></i>\n",
    "\n",
    "### week 2. 협업 필터링\n",
    "# Section 2. 협업 필터링 알고리즘의 종류 및 구현\n",
    "\n",
    "협업 필터링에는 유저 기반 협업 필터링과 아이템 기반 협업 필터링이 있습니다. 두 가지 종류의 협업 필터링 알고리즘을 배우면서 협업 필터링을 보다 깊이 이해해보겠습니다. 그 다음에는 앞서 샘플 리뷰 데이터로 배운 유사도 계산을 보다 큰 데이터셋에 적용해 아이템 기반 협업 필터링을 직접 구현해보겠습니다.\n",
    "\n",
    "### _Objective_ \n",
    "\n",
    "* [ **협업필터링 알고리즘의 종류**] 협업 필터링의 핵심 알고리즘, 유저 기반 협업 필터링과 아이템 기반 협업 필터링의 개념을 배웁니다.\n",
    "* [ **구현** ] Movie-lens 데이터를 이용해 아이템 기반 협업 필터링을 구현해봅니다.\n",
    "\n"
   ]
  },
  {
   "cell_type": "code",
   "execution_count": 1,
   "metadata": {},
   "outputs": [],
   "source": [
    "# 필요한 라이브러리 가져오기\n",
    "%matplotlib inline\n",
    "\n",
    "import os\n",
    "import numpy as np\n",
    "import pandas as pd\n",
    "from tqdm import tqdm\n",
    "import matplotlib.pyplot as plt\n",
    "from datetime import datetime\n",
    "\n",
    "from tensorflow.keras.utils import get_file\n",
    "np.set_printoptions(3)"
   ]
  },
  {
   "cell_type": "markdown",
   "metadata": {},
   "source": [
    "#### 데이터 가져오기\n",
    "\n",
    "이번 시간 동안 Pandas로 연산을 진행하기 위해서, 미리 CSV파일로 만들어진 데이터들을 직접 부르도록 하겠습니다."
   ]
  },
  {
   "cell_type": "code",
   "execution_count": 2,
   "metadata": {},
   "outputs": [],
   "source": [
    "ROOT_URL = \"https://pai-datasets.s3.ap-northeast-2.amazonaws.com/recommender_systems/movielens/datasets\"\n",
    "\n",
    "movie_path = get_file(\"movies.csv\",ROOT_URL + \"/movies.csv\")\n",
    "movie_df = pd.read_csv(movie_path)\n",
    "\n",
    "genre_path = get_file(\"genres.csv\", ROOT_URL, \"/genres.csv\")\n",
    "genre_df = pd.read_csv(genre_path)\n",
    "\n",
    "rating_path = get_file(\"ratings.csv\", ROOT_URL, \"/ratings.csv\")\n",
    "rating_df = pd.read_csv(rating_path)\n",
    "\n",
    "\n",
    "# 메모리 문제를 좀 더 완화하기 위해 8비트로 변경(0~255)\n",
    "rating_df.rating = (rating_df.rating*2).astype(np.uint8)\n",
    "rating_df.movie_id = rating_df.movie_id.astype(np.uint32)\n",
    "rating_df.user_id = rating_df.user_id.astype(np.uint32)\n",
    "\n",
    "rating_df.drop(columns='rated_at',inplace=True)"
   ]
  },
  {
   "cell_type": "markdown",
   "metadata": {},
   "source": [
    "# \\[ 협업 필터링 알고리즘의 종류: 유저 기반 협업 필터링과 아이템 기반 협업 필터링 \\]\n",
    "---\n"
   ]
  },
  {
   "cell_type": "markdown",
   "metadata": {},
   "source": [
    "## 1. User-Based Collaborative Filtering 과 Item-Based Collaborative Filtering\n",
    "\n",
    "<img src=\"https://i.imgur.com/JRe39qe.png\" width=\"500\">\n",
    "\n",
    "협업 필터링(Collaborative Filtering)을 통해 추천하는 방법은 크게 2가지가 있습니다. \n",
    "\n",
    "* 유저 기반 협업 필터링(User-Based Collaborative Filtering) : 유저와 비슷한 유저가 좋게 평가한 영화를 추천\n",
    "* 아이템 기반 협업 필터링(Item-Based Collaborative Filtering) : 유저가 좋아하는 영화와 비슷한 영화를 추천\n",
    "\n",
    "두 알고리즘의 중요한 차이는 바로 **무엇에 대한 유사도**를 계산하느냐에 있습니다. 유저 기반 협업 필터링은 유저 간의 유사도를 계산하여 추천하는 방식이고, 아이템 기반 협업 필터링은 아이템 간의 유사도를 계산하는 방식입니다. 즉, 앞서 Section 1에서 배운 유사도를 이용하여 유저 간의 유사도를 계산할 것인지, 제품 간의 유사도를 계산할 것인지에 따른 차이가 있는 것이죠. "
   ]
  },
  {
   "cell_type": "markdown",
   "metadata": {},
   "source": [
    "## 2. User Similarity Matrix\n",
    "\n",
    "Section 1에서는 유저 5명을 놓고 유사도를 계산해보았는데, 실제 시스템에는 훨씬 많은 유저가 있습니다. 유저 간의 유사도 행렬(User Similarity Matrix)이란 아래와 같이 각 유저 간의 영화 평점을 가지고 유사도 점수를 계산해 넣은 행렬입니다.이전 시간에 했던 유사도 계산이 사실상 위의 행렬 내 값들을 찾는 것과 동일합니다.\n",
    "\n",
    "<img src=\"https://i.imgur.com/GNPZj56.png\" width=\"500\">"
   ]
  },
  {
   "cell_type": "markdown",
   "metadata": {},
   "source": [
    "## 3. Item Similarity Matrix\n",
    "아이템 간의 유사도 행렬(Item Similarity Matrix)이란 역으로 각 영화 별 유저들의 레이팅에 대한 비교로 유사도 점수를 계산해 넣어 만든 행럴입니다. 아마존에서 사용하고 있는 추천시스템이 바로 이러한 아이템 유사도 행렬을 사용하여 **아이템 기반 협업 필터링(Item-Based Collaborative Filtering) 추천 시스템**입니다. 주기적으로 아이템 유사도 행렬을 계산해주기만 하면, 운영 환경에서는 계산된 유사도 행렬에 따라 제품을 추천하면 되기 때문에 서버의 연산량 이슈가 크게 발생하지 않는 효율적인 추천 시스템입니다. 이번 시간에는 아래의 아이템 기반 협업필터링(Item-Based Collaborative Filtering)을 중심으로 구현해보도록 하겠습니다.\n",
    "\n",
    "<img src=\"https://i.imgur.com/UaOmANU.png\" width=\"500\">"
   ]
  },
  {
   "cell_type": "markdown",
   "metadata": {},
   "source": [
    "# \\[ 구현 \\]\n",
    "---\n",
    "\n",
    "Movie-lens 데이터를 이용해 아이템 기반 협업 필터링을 구현해보겠습니다. 보다 구체적으로는 전체 데이터를 사용할 경우 데이터가 보이는 희소성 문제를 살펴본 후, 이 문제점을 해결하기 위해 기준을 세워 협업 필터링 시스템에서 사용할 아이템과 유저 데이터를 걸러내겠습니다. 그 다음에 지난 section에서 배운 유사도 알고리즘으로 유저도 행렬을 만들어보겠습니다. 끝으로는 유사도 행렬을 이용해 영화를 추천해보겠습니다."
   ]
  },
  {
   "cell_type": "markdown",
   "metadata": {},
   "source": [
    "## 1. 데이터 속 문제 - 데이터의 Sparsity\n",
    "\n",
    "효과적인 추천시스템을 만들기 위해 가지고 있는 모든 데이터를 써야할 것 같지만, 사실 가지고 있는 모든 데이터를 사용하게 되면 다양한 문제가 생깁니다. 데이터의 희소성(sparsity) 문제는 그 중 하나입니다. 데이터가 희소(Sparse)하다는 의미는 유저 수와 영화 수는 많은 데 비해서 유저와 아이템 사이의 상호작용 데이터는 극히 드물다는 것을 의미합니다. 온라인 쇼핑몰의 경우에 적용해서 생각해볼까요? 한 유저가 쇼핑몰에 있는 모든 상품을 주문하는 것이 아니기 때문에 유저와 상호작용이 발생한 상품은 전체에서 극히 일부일 것입니다. <br>\n",
    "지금 다루고 있는 영화 리뷰 데이터에서도 마찬가지입니다. 한 유저가 평점을 남기는 영화는 전체 영화 중에 극히 일부일 것입니다. Movie-lens 데이터의 희소성은 어느 정도인지 알아봅시다."
   ]
  },
  {
   "cell_type": "code",
   "execution_count": 3,
   "metadata": {},
   "outputs": [
    {
     "name": "stdout",
     "output_type": "stream",
     "text": [
      "총 유저의 수 : 138493\n",
      "총 아이템의 수 : 26744\n",
      "유저/아이템 행렬의 크기 :  3703856792\n",
      "평점 데이터의 갯수 :  20000263\n",
      "Matrix 중 값이 있는 비율(Density) : 0.540%\n"
     ]
    }
   ],
   "source": [
    "num_user = len(rating_df.user_id.unique())\n",
    "print(\"총 유저의 수 : {}\".format(num_user))\n",
    "\n",
    "num_item = len(rating_df.movie_id.unique())\n",
    "print(\"총 아이템의 수 : {}\".format(num_item))\n",
    "\n",
    "ui_matrix_size = num_user * num_item\n",
    "print(\"유저/아이템 행렬의 크기 : \", ui_matrix_size)\n",
    "\n",
    "num_rating  = len(rating_df)\n",
    "print(\"평점 데이터의 갯수 : \", num_rating)\n",
    "\n",
    "print(\"Matrix 중 값이 있는 비율(Density) : {:.3%}\".format(num_rating/ui_matrix_size))"
   ]
  },
  {
   "cell_type": "markdown",
   "metadata": {},
   "source": [
    "유저와 영화 정보를 가지고 유저-아이템 행렬(User-Item Matrix)를 만들면 30억개의 칸이 있는 행렬이 만들어지지만, 이 행렬을 채우는 평점 데이터는 2천만개 정도로, 전체의 0.5% 정도만 채워집니다."
   ]
  },
  {
   "cell_type": "markdown",
   "metadata": {},
   "source": [
    "## 2. 영화 최소 기준 선정하기\n",
    "\n",
    "전체 리뷰 데이터를 이용해 만든 유저-아이템 행렬은 밀집도(Density)가 매우 낮습니다. 평가를 한 횟수가 매우 적은 사람이나 받은 평점이 매우 적은 영화의 경우에는 유저나 영화 간 유사도가 지나치게 높게 나오거나, 적게 나올 우려도 있습니다. 이를 방지하기 위해 적게 별점을 남긴 사람과 별점을 적게 받은 영화의 케이스를 제거해야 합니다. "
   ]
  },
  {
   "cell_type": "markdown",
   "metadata": {},
   "source": [
    "#### 영화 별 평점(rating)의 갯수 세기"
   ]
  },
  {
   "cell_type": "code",
   "execution_count": 4,
   "metadata": {},
   "outputs": [
    {
     "data": {
      "text/plain": [
       "296       67310\n",
       "356       66172\n",
       "318       63366\n",
       "593       63299\n",
       "480       59715\n",
       "          ...  \n",
       "97761         1\n",
       "111785        1\n",
       "127875        1\n",
       "114170        1\n",
       "131136        1\n",
       "Name: movie_id, Length: 26744, dtype: int64"
      ]
     },
     "execution_count": 4,
     "metadata": {},
     "output_type": "execute_result"
    }
   ],
   "source": [
    "# movieId 별 rating의 개수를 계산하고, 크기순 정렬\n",
    "count_per_movie = (\n",
    "    rating_df  # 별점 테이블에서\n",
    "    .movie_id  # 영화 아이디가 \n",
    "    .value_counts()  # 각각 몇번씩 있었는지 계산하고,\n",
    "    .sort_values(ascending=False)) # 이를 내림차순으로 정렬하세요\n",
    "\n",
    "count_per_movie"
   ]
  },
  {
   "cell_type": "markdown",
   "metadata": {},
   "source": [
    "#### 영화 별 평점(rating) 갯수의 누적합 비율 구하기"
   ]
  },
  {
   "cell_type": "code",
   "execution_count": 5,
   "metadata": {},
   "outputs": [
    {
     "data": {
      "text/plain": [
       "296       0.003365\n",
       "356       0.006674\n",
       "318       0.009842\n",
       "593       0.013007\n",
       "480       0.015993\n",
       "            ...   \n",
       "97761     1.000000\n",
       "111785    1.000000\n",
       "127875    1.000000\n",
       "114170    1.000000\n",
       "131136    1.000000\n",
       "Name: movie_id, Length: 26744, dtype: float64"
      ]
     },
     "execution_count": 5,
     "metadata": {},
     "output_type": "execute_result"
    }
   ],
   "source": [
    "used_rating_ratio_per_count = (\n",
    "    count_per_movie.cumsum() # 내림차순으로 정렬된 갯수를 순서대로 누적합을 계산하고\n",
    "    / count_per_movie.sum()) # 이를 전체 별점갯수로 나누어주세요\n",
    "used_rating_ratio_per_count"
   ]
  },
  {
   "cell_type": "code",
   "execution_count": 6,
   "metadata": {},
   "outputs": [
    {
     "data": {
      "text/plain": [
       "<matplotlib.axes._subplots.AxesSubplot at 0x115e7e240>"
      ]
     },
     "execution_count": 6,
     "metadata": {},
     "output_type": "execute_result"
    },
    {
     "data": {
      "image/png": "[encoded data removed]",
      "text/plain": [
       "<Figure size 432x288 with 1 Axes>"
      ]
     },
     "metadata": {},
     "output_type": "display_data"
    }
   ],
   "source": [
    "(\n",
    "    used_rating_ratio_per_count\n",
    "    .reset_index(drop=True)\n",
    "    .plot(title=\"Cumulative Sum\")\n",
    ")"
   ]
  },
  {
   "cell_type": "markdown",
   "metadata": {},
   "source": [
    "#### 영화 별 평점 갯수와 누적합 비율 합치기\n",
    "\n",
    "좀 더 보기편하도록 이 두 열을 합쳐주도록 하겠습니다."
   ]
  },
  {
   "cell_type": "code",
   "execution_count": 7,
   "metadata": {},
   "outputs": [
    {
     "data": {
      "text/html": [
       "<div>\n",
       "<style scoped>\n",
       "    .dataframe tbody tr th:only-of-type {\n",
       "        vertical-align: middle;\n",
       "    }\n",
       "\n",
       "    .dataframe tbody tr th {\n",
       "        vertical-align: top;\n",
       "    }\n",
       "\n",
       "    .dataframe thead th {\n",
       "        text-align: right;\n",
       "    }\n",
       "</style>\n",
       "<table border=\"1\" class=\"dataframe\">\n",
       "  <thead>\n",
       "    <tr style=\"text-align: right;\">\n",
       "      <th></th>\n",
       "      <th>movie_count</th>\n",
       "      <th>used_rating_ratio</th>\n",
       "    </tr>\n",
       "  </thead>\n",
       "  <tbody>\n",
       "    <tr>\n",
       "      <th>296</th>\n",
       "      <td>67310</td>\n",
       "      <td>0.003365</td>\n",
       "    </tr>\n",
       "    <tr>\n",
       "      <th>356</th>\n",
       "      <td>66172</td>\n",
       "      <td>0.006674</td>\n",
       "    </tr>\n",
       "    <tr>\n",
       "      <th>318</th>\n",
       "      <td>63366</td>\n",
       "      <td>0.009842</td>\n",
       "    </tr>\n",
       "    <tr>\n",
       "      <th>593</th>\n",
       "      <td>63299</td>\n",
       "      <td>0.013007</td>\n",
       "    </tr>\n",
       "    <tr>\n",
       "      <th>480</th>\n",
       "      <td>59715</td>\n",
       "      <td>0.015993</td>\n",
       "    </tr>\n",
       "    <tr>\n",
       "      <th>...</th>\n",
       "      <td>...</td>\n",
       "      <td>...</td>\n",
       "    </tr>\n",
       "    <tr>\n",
       "      <th>185</th>\n",
       "      <td>24618</td>\n",
       "      <td>0.173922</td>\n",
       "    </tr>\n",
       "    <tr>\n",
       "      <th>1961</th>\n",
       "      <td>24591</td>\n",
       "      <td>0.175152</td>\n",
       "    </tr>\n",
       "    <tr>\n",
       "      <th>1923</th>\n",
       "      <td>24582</td>\n",
       "      <td>0.176381</td>\n",
       "    </tr>\n",
       "    <tr>\n",
       "      <th>2396</th>\n",
       "      <td>24521</td>\n",
       "      <td>0.177607</td>\n",
       "    </tr>\n",
       "    <tr>\n",
       "      <th>111</th>\n",
       "      <td>24481</td>\n",
       "      <td>0.178831</td>\n",
       "    </tr>\n",
       "  </tbody>\n",
       "</table>\n",
       "<p>100 rows × 2 columns</p>\n",
       "</div>"
      ],
      "text/plain": [
       "      movie_count  used_rating_ratio\n",
       "296         67310           0.003365\n",
       "356         66172           0.006674\n",
       "318         63366           0.009842\n",
       "593         63299           0.013007\n",
       "480         59715           0.015993\n",
       "...           ...                ...\n",
       "185         24618           0.173922\n",
       "1961        24591           0.175152\n",
       "1923        24582           0.176381\n",
       "2396        24521           0.177607\n",
       "111         24481           0.178831\n",
       "\n",
       "[100 rows x 2 columns]"
      ]
     },
     "execution_count": 7,
     "metadata": {},
     "output_type": "execute_result"
    }
   ],
   "source": [
    "count_movie_df = pd.concat(\n",
    "    [count_per_movie, used_rating_ratio_per_count], axis=1)\n",
    "count_movie_df.columns = [\"movie_count\", \"used_rating_ratio\"]\n",
    "count_movie_df.head(100)"
   ]
  },
  {
   "cell_type": "markdown",
   "metadata": {},
   "source": [
    "위의 데이터는 movie_count가 제일 많은 것부터 적은 것까지 순서대로 더해가며 누적합 비율을 계산한 것입니다. 이를 통해 우리가 알고자 하는 것은 영화 평가 수 기준 Top-K가 평가 중에서 차지하는 비율입니다. 위의 경우 Top-1 영화의 경우 전체 평점 데이터의 0.3%를 차지하고 있고, 1위부터 100위까지의 영화(Top-100)의 리뷰를 모두 합치면 전체 리뷰의 17.9% 가량 됩니다. 전체 리뷰 정보의 90%를 포괄하는 수준으로 영화 수를 제한하면 어느 정도의 영화가 커버되는지 그래프로 그려봅시다."
   ]
  },
  {
   "cell_type": "code",
   "execution_count": 8,
   "metadata": {},
   "outputs": [
    {
     "data": {
      "image/png": "[encoded data removed]",
      "text/plain": [
       "<Figure size 432x288 with 1 Axes>"
      ]
     },
     "metadata": {},
     "output_type": "display_data"
    }
   ],
   "source": [
    "(\n",
    "    count_movie_df\n",
    "    .used_rating_ratio\n",
    "    .reset_index(drop=True)\n",
    "    .plot()\n",
    ")\n",
    "plt.plot([0,25000],[0.9, 0.9], 'r--')\n",
    "plt.show()"
   ]
  },
  {
   "cell_type": "markdown",
   "metadata": {},
   "source": [
    "영화별 평점 데이터를 평점이 많은 순으로 합쳤을 때, 전체 평점 데이터의 90%쯤 되는 지점의 영화가 가지는 최소 별점 갯수를 알아보겠습니다."
   ]
  },
  {
   "cell_type": "code",
   "execution_count": 9,
   "metadata": {},
   "outputs": [
    {
     "name": "stdout",
     "output_type": "stream",
     "text": [
      "영화의 최소 평가 수 : 879번\n"
     ]
    }
   ],
   "source": [
    "min_threshold = (\n",
    "    count_movie_df\n",
    "    [count_movie_df.used_rating_ratio<0.9]\n",
    "    .movie_count\n",
    "    .min()\n",
    ")\n",
    "print(\"영화의 최소 평가 수 : {}번\".format(min_threshold))"
   ]
  },
  {
   "cell_type": "markdown",
   "metadata": {},
   "source": [
    "최소한 879개의 평점을 받은 영화를 남기고, 나머지를 제거해야 하는 것으로 나옵니다."
   ]
  },
  {
   "cell_type": "code",
   "execution_count": 10,
   "metadata": {},
   "outputs": [
    {
     "name": "stdout",
     "output_type": "stream",
     "text": [
      "해당하는 영화 수 : 3410개\n"
     ]
    }
   ],
   "source": [
    "used_movie = (\n",
    "    count_movie_df\n",
    "    [count_movie_df.used_rating_ratio<0.9]\n",
    "    .index\n",
    ")\n",
    "print(\"해당하는 영화 수 : {}개\".format(len(used_movie)))"
   ]
  },
  {
   "cell_type": "markdown",
   "metadata": {},
   "source": [
    "이 기준에 부합하는 영화는 3410개정도 됩니다."
   ]
  },
  {
   "cell_type": "code",
   "execution_count": 11,
   "metadata": {},
   "outputs": [
    {
     "name": "stdout",
     "output_type": "stream",
     "text": [
      "추리기 전 별점 데이터 수 : 20000263개\n",
      "추린 후 별점 데이터 수 : 17999984개\n"
     ]
    }
   ],
   "source": [
    "truncated_rating_df = (\n",
    "    rating_df[rating_df.movie_id.isin(used_movie)])\n",
    "\n",
    "print(\"추리기 전 별점 데이터 수 : {}개\".format(len(rating_df)))\n",
    "print(\"추린 후 별점 데이터 수 : {}개\".format(len(truncated_rating_df)))"
   ]
  },
  {
   "cell_type": "markdown",
   "metadata": {},
   "source": [
    "영화를 추리고 나니, 별점 데이터가 1,799만개 정도 남았습니다."
   ]
  },
  {
   "cell_type": "markdown",
   "metadata": {},
   "source": [
    "## 3. 유저 최소 기준 선정하기\n",
    "이번에는 동일한 방법으로 유사도 계산에 사용할 유저를 정할 최소 기준을 정해봅시다."
   ]
  },
  {
   "cell_type": "markdown",
   "metadata": {},
   "source": [
    "#### 유저 별 평점(rating)의 갯수 세기"
   ]
  },
  {
   "cell_type": "code",
   "execution_count": 12,
   "metadata": {},
   "outputs": [
    {
     "data": {
      "text/plain": [
       "8405      3153\n",
       "118205    2976\n",
       "74142     2743\n",
       "34576     2608\n",
       "125794    2606\n",
       "Name: user_id, dtype: int64"
      ]
     },
     "execution_count": 12,
     "metadata": {},
     "output_type": "execute_result"
    }
   ],
   "source": [
    "# user id 별 rating의 개수를 계산하고, 크기순 정렬\n",
    "count_per_user = (\n",
    "    truncated_rating_df  # 위에서 추려진 별점 테이블에서\n",
    "    .user_id  # 유저 아이디가\n",
    "    .value_counts()  # 각각 몇번씩 있었는지 계산하고,\n",
    "    .sort_values(ascending=False)  # 이를 내림차순으로 정렬하세요\n",
    ")\n",
    "count_per_user.head()"
   ]
  },
  {
   "cell_type": "markdown",
   "metadata": {},
   "source": [
    "#### 유저 별 평점(rating) 갯수의 누적합 비율 구하기"
   ]
  },
  {
   "cell_type": "code",
   "execution_count": 13,
   "metadata": {},
   "outputs": [],
   "source": [
    "used_rating_ratio_per_count = (\n",
    "    count_per_user.cumsum() # 누적합 계산\n",
    "    / len(truncated_rating_df) # 전체 카운트 수 나눔\n",
    ")"
   ]
  },
  {
   "cell_type": "markdown",
   "metadata": {},
   "source": [
    "#### 유저 별 평점 갯수와 누적합 비율 합치기"
   ]
  },
  {
   "cell_type": "code",
   "execution_count": 14,
   "metadata": {},
   "outputs": [
    {
     "data": {
      "text/html": [
       "<div>\n",
       "<style scoped>\n",
       "    .dataframe tbody tr th:only-of-type {\n",
       "        vertical-align: middle;\n",
       "    }\n",
       "\n",
       "    .dataframe tbody tr th {\n",
       "        vertical-align: top;\n",
       "    }\n",
       "\n",
       "    .dataframe thead th {\n",
       "        text-align: right;\n",
       "    }\n",
       "</style>\n",
       "<table border=\"1\" class=\"dataframe\">\n",
       "  <thead>\n",
       "    <tr style=\"text-align: right;\">\n",
       "      <th></th>\n",
       "      <th>user_count</th>\n",
       "      <th>used_rating_ratio</th>\n",
       "    </tr>\n",
       "  </thead>\n",
       "  <tbody>\n",
       "    <tr>\n",
       "      <th>8405</th>\n",
       "      <td>3153</td>\n",
       "      <td>0.000175</td>\n",
       "    </tr>\n",
       "    <tr>\n",
       "      <th>118205</th>\n",
       "      <td>2976</td>\n",
       "      <td>0.000341</td>\n",
       "    </tr>\n",
       "    <tr>\n",
       "      <th>74142</th>\n",
       "      <td>2743</td>\n",
       "      <td>0.000493</td>\n",
       "    </tr>\n",
       "    <tr>\n",
       "      <th>34576</th>\n",
       "      <td>2608</td>\n",
       "      <td>0.000638</td>\n",
       "    </tr>\n",
       "    <tr>\n",
       "      <th>125794</th>\n",
       "      <td>2606</td>\n",
       "      <td>0.000783</td>\n",
       "    </tr>\n",
       "  </tbody>\n",
       "</table>\n",
       "</div>"
      ],
      "text/plain": [
       "        user_count  used_rating_ratio\n",
       "8405          3153           0.000175\n",
       "118205        2976           0.000341\n",
       "74142         2743           0.000493\n",
       "34576         2608           0.000638\n",
       "125794        2606           0.000783"
      ]
     },
     "execution_count": 14,
     "metadata": {},
     "output_type": "execute_result"
    }
   ],
   "source": [
    "count_user_df = pd.concat(\n",
    "    [count_per_user, used_rating_ratio_per_count], axis=1)\n",
    "count_user_df.columns = [\"user_count\", \"used_rating_ratio\"]\n",
    "count_user_df.head()"
   ]
  },
  {
   "cell_type": "markdown",
   "metadata": {},
   "source": [
    "유저도 전체 리뷰 정보의 90%를 포괄하는 수준으로 수를 제한하도록 하겠습니다."
   ]
  },
  {
   "cell_type": "code",
   "execution_count": 15,
   "metadata": {},
   "outputs": [
    {
     "data": {
      "image/png": "[encoded data removed]",
      "text/plain": [
       "<Figure size 432x288 with 1 Axes>"
      ]
     },
     "metadata": {},
     "output_type": "display_data"
    }
   ],
   "source": [
    "(\n",
    "    count_user_df\n",
    "    .used_rating_ratio\n",
    "    .reset_index(drop=True)\n",
    "    .plot()\n",
    ")\n",
    "plt.plot([0,150000],[0.9, 0.9], 'r--')\n",
    "plt.show()"
   ]
  },
  {
   "cell_type": "markdown",
   "metadata": {},
   "source": [
    "영화보다 누적 리뷰수 그래프가 완만하게 올라갑니다. 영화는 일부 영화에 평점 데이터가 많이 쏠려 있는 반면, 유저별 평점 데이터 수는 보다 고르게 분포한 것을 알 수 있습니다."
   ]
  },
  {
   "cell_type": "code",
   "execution_count": 16,
   "metadata": {},
   "outputs": [
    {
     "name": "stdout",
     "output_type": "stream",
     "text": [
      "최소 유저의 평가 수 : 51\n"
     ]
    }
   ],
   "source": [
    "min_threshold = (\n",
    "    count_user_df\n",
    "    [count_user_df.used_rating_ratio<0.9]\n",
    "    .user_count\n",
    "    .min()\n",
    ")\n",
    "print(f\"최소 유저의 평가 수 : {min_threshold}\")"
   ]
  },
  {
   "cell_type": "markdown",
   "metadata": {},
   "source": [
    "최소 51개의 리뷰를 남긴 유저를 남겨야 하는 것으로 나왔습니다."
   ]
  },
  {
   "cell_type": "code",
   "execution_count": 17,
   "metadata": {},
   "outputs": [
    {
     "name": "stdout",
     "output_type": "stream",
     "text": [
      "해당하는 유저 수 : 81073\n"
     ]
    }
   ],
   "source": [
    "used_user = (\n",
    "    count_user_df\n",
    "    [count_user_df.used_rating_ratio<0.9]\n",
    "    .index\n",
    ")\n",
    "print(f\"해당하는 유저 수 : {len(used_user)}\")"
   ]
  },
  {
   "cell_type": "markdown",
   "metadata": {},
   "source": [
    "이 기준에 부합하는 유저는 총 81,073명입니다."
   ]
  },
  {
   "cell_type": "code",
   "execution_count": 18,
   "metadata": {},
   "outputs": [
    {
     "name": "stdout",
     "output_type": "stream",
     "text": [
      "추리기 전 별점 데이터 수 : 20000263개\n",
      "추린 후 별점 데이터 수 : 16199943개\n"
     ]
    }
   ],
   "source": [
    "truncated_rating_df = truncated_rating_df[\n",
    "    truncated_rating_df.user_id.isin(used_user)]\n",
    "\n",
    "print(f\"추리기 전 별점 데이터 수 : {len(rating_df)}개\")\n",
    "print(f\"추린 후 별점 데이터 수 : {len(truncated_rating_df)}개\")"
   ]
  },
  {
   "cell_type": "markdown",
   "metadata": {},
   "source": [
    "유저를 기준으로 추리고 나니 별점 데이터가 1,620만개 정도 남았습니다."
   ]
  },
  {
   "cell_type": "markdown",
   "metadata": {},
   "source": [
    "## 4. User-Item Matrix 만들기\n",
    "\n",
    "리뷰 데이터의 정보를 최대한 유지하면서도, 유저-아이템 행렬의 희소성 문제를 줄일 수 있도록 유저와 영화를 적정 수준에서 걸러낸 `truncated_rating_df`를 만들었습니다. 이를 활용해 유저-아이템 행렬을 만들어봅시다. 데이터가 커서 만들어지는 데 다소 시간이 걸릴 수 있습니다."
   ]
  },
  {
   "cell_type": "code",
   "execution_count": 19,
   "metadata": {},
   "outputs": [],
   "source": [
    "ui_df = (\n",
    "    truncated_rating_df\n",
    "    .pivot_table(\n",
    "        values='rating',\n",
    "        index='user_id',\n",
    "        columns='movie_id'))"
   ]
  },
  {
   "cell_type": "markdown",
   "metadata": {},
   "source": [
    "### (1) 영화의 편향과 유저의 편향을 제거하기"
   ]
  },
  {
   "cell_type": "code",
   "execution_count": 20,
   "metadata": {},
   "outputs": [],
   "source": [
    "avg_rating = np.mean(ui_df)\n",
    "\n",
    "# 고객의 편향 계산하기\n",
    "user_bias = ui_df.mean(axis=1) - avg_rating\n",
    "# 아이템의 편향 계산하기\n",
    "item_bias = ui_df.mean(axis=0) - avg_rating"
   ]
  },
  {
   "cell_type": "code",
   "execution_count": 21,
   "metadata": {},
   "outputs": [],
   "source": [
    "adjusted_ui_df = (\n",
    "    ui_df  # 유저 / 아이템 행렬에서\n",
    "    .sub(user_bias,'rows') # 유저 편향을 제거하고\n",
    "    .sub(item_bias,'columns') # 아이템 편향을 제거하여 보정하자\n",
    ")"
   ]
  },
  {
   "cell_type": "markdown",
   "metadata": {},
   "source": [
    "#### 결측치를 0으로 채우기\n",
    "\n",
    "결측치(Missing Value)를 어떻게 채워주어야 하는가는 매우 중요한 문제이고, 값을 잘못 채울 경우에는 큰 성능 저하가 생기기도 합니다. 지금은 가장 간단한 방식인 0으로 채우는 방식으로 진행합니다."
   ]
  },
  {
   "cell_type": "code",
   "execution_count": 22,
   "metadata": {},
   "outputs": [],
   "source": [
    "adjusted_ui_df = adjusted_ui_df.fillna(0)"
   ]
  },
  {
   "cell_type": "markdown",
   "metadata": {},
   "source": [
    "----\n",
    "\n",
    "#### \\[ additional \\]\n",
    "\n",
    "항상 두 편향을 모두 제거해야만 하는 것은 아닙니다. 이후 우리가 어떤 수식을 기준으로 편향을 적용함에 따라서 편향을 제거하는 방법은 달라질 수 있습니다.\n",
    "\n",
    "* Case 1) Pearon-Based Similarity\n",
    "\n",
    "    아이템 편향만을 제거해주면, Pearson-Based Similarity를 계산하기 위한 보정 수식이 됩니다.\n",
    "\n",
    "$$\n",
    "sim(i,j) = \\frac{\\sum_{u \\in U} (R_{u,i} - \\bar{R_{i}})(R_{u,j}- \\bar{R}_j)}{\\sqrt{\\sum_{u \\in U} (R_{u,i} - \\bar{R_{i}})^2}{\\sqrt{\\sum_{u \\in U} (R_{u,j} - \\bar{R_{j}})^2}} }\n",
    "$$\n",
    "\n",
    "* Case 2) Adjusted cosine Similarity\n",
    "    \n",
    "    유저 편향만을 제거해주면, Adjusted-Based Similarity를 계산하기 위한 보정 수식이 됩니다.\n",
    "$$\n",
    "sim(i,j) = \\frac{\\sum_{u \\in U} (R_{u,i} - \\bar{R_{u}})(R_{u,j}- \\bar{R}_u)}{\\sqrt{\\sum_{u \\in U} (R_{u,i} - \\bar{R_{u}})^2}{\\sqrt{\\sum_{u \\in U} (R_{u,j} - \\bar{R_{u}})^2}} }\n",
    "$$\n",
    "\n",
    "----"
   ]
  },
  {
   "cell_type": "markdown",
   "metadata": {},
   "source": [
    "## 5. 코사인 유사도를 활용하여 유사도 행렬 구성하기\n",
    "\n",
    "\n",
    "앞서 배운 코사인 유사도 수식을 떠올려봅시다.\n",
    "$$\n",
    "Cosine\\_Similarity(X,Y) = \\frac{\\sum_{i=1}^{n}x_i y_i}{\\sqrt{\\sum_{i=1}^{n}x_i^2} \\sqrt{\\sum_{i=1}^{n}y_i^2}}\n",
    "$$\n",
    "\n",
    "영화X와 영화Y의 코사인 유사도를 구한다고 하면, 각 영화에 대해 유저$1$부터 유저$n$번째 유저가 남긴 평점 벡터를 가져와 위의 연산을 수행해야 합니다. 이를 함수로 정의하면 아래와 같이 정의할 수 있을 것입니다. `calculate_cosine_similarity`의 입력값 `x`와 `y`는 각각 영화X와 영화Y에 대해 전체 유저가 남긴 평점 벡터입니다."
   ]
  },
  {
   "cell_type": "code",
   "execution_count": 23,
   "metadata": {},
   "outputs": [],
   "source": [
    "def calculate_cosine_similarity(x, y):\n",
    "    return np.sum(x*y)/(np.sqrt(np.sum(x**2)) * np.sqrt(np.sum(y**2)))"
   ]
  },
  {
   "cell_type": "code",
   "execution_count": null,
   "metadata": {},
   "outputs": [],
   "source": [
    "# Dataframe to array\n",
    "adjusted_ui_matrix = adjusted_ui_df.values\n",
    "\n",
    "# 빈행렬 생성\n",
    "_, num_movies = adjusted_ui_df.shape\n",
    "cosine_similarity_output = np.zeros((num_movies, num_movies)) \n",
    "\n",
    "for i in tqdm(range(num_movies)):\n",
    "    for j in range(num_movies):\n",
    "        # Cosine Similarity 계산\n",
    "        movie_i = adjusted_ui_matrix[:,i] #영화i에 대해 유저들이 남긴 별점 벡터\n",
    "        movie_j = adjusted_ui_matrix[:,j] #영화j에 대해 유저들이 남긴 별점 벡터\n",
    "        \n",
    "        sim = calculate_cosine_similarity(movie_i, movie_j)\n",
    "        \n",
    "        cosine_similarity_output[i,j] = sim"
   ]
  },
  {
   "cell_type": "markdown",
   "metadata": {},
   "source": [
    "### (1) 위의 코드를 개선하기 - `scikit-learn ` 모듈 이용하기\n",
    "\n",
    "Scipy에서는 거리를 계산하는 것을 빠르게 해주는 코드들을 제공합니다."
   ]
  },
  {
   "cell_type": "code",
   "execution_count": 26,
   "metadata": {},
   "outputs": [],
   "source": [
    "from sklearn.metrics.pairwise import cosine_similarity\n",
    "\n",
    "adjusted_ui_matrix = adjusted_ui_df.values\n",
    "cosine_similarity_output = cosine_similarity(adjusted_ui_matrix.T)"
   ]
  },
  {
   "cell_type": "markdown",
   "metadata": {},
   "source": [
    "\n",
    "### \\[ Additional \\]  위의 코드를 개선하기( Vectorize 이용하기 )\n",
    "\n",
    "하지만, 위와 같이(For 구문) 코드를 작성할 경우 행렬을 구성하는 데에 굉장히 오랜 시간이 소요됩니다. 이를 보다 빠르게 하기 위해서는 numpy의 벡터 연산을 이용해 계산을 수행해야 합니다. 다시 코사인 유사도 수식을 조금 정리해봅시다. \n",
    "<br>\n",
    "<br>\n",
    "$$\n",
    "Cosine\\_Similarity(X,Y) = \\frac{\\sum_{i=1}^{n}x_i y_i}{\\sqrt{\\sum_{i=1}^{n}x_i^2} \\sqrt{\\sum_{i=1}^{n}y_i^2}} =  \\frac{X \\cdot Y}{|X| |Y|}\n",
    "$$\n",
    "<br>\n",
    "코사인 유사도에서 분자에 해당하는 $\\sum_{i=1}^{n}x_i y_i$는 사실 행렬$X$와 행렬$Y$에 행렬곱을 수행하는 것과 같고, 각 행렬 원소의 제곱합에 루트를 씌우는 것은 각 행렬의 크기(노름)를 구하는 것과 같습니다. \n",
    "<br>\n",
    "<br>\n",
    "$$\n",
    "Cosine\\_Similarity(X,Y) =  \\frac{X \\cdot Y}{|X| |Y|} = \\frac{X}{|X|}\\cdot\\frac{Y}{|Y|} = \\hat X \\cdot \\hat Y\n",
    "$$\n",
    "<br>\n",
    "또한 이는 각 벡터를 단위벡터화(정규화)한 후, 행렬곱을 적용하는 것과 동일합니다. 이렇게 수식을 정리하면 훨씬 더 빠르게 코사인 유사도를 계산할 수 있습니다.행렬곱을 적용한 코사인 유사도 수식을 유저-아이템 행렬(`adjusted_ui_matrix`)에 적용하려면 어떻게 해야 할까요?<br>"
   ]
  },
  {
   "cell_type": "markdown",
   "metadata": {},
   "source": [
    "<img src=\"https://i.imgur.com/e1Dpxnf.jpg\" width=\"700\">"
   ]
  },
  {
   "cell_type": "markdown",
   "metadata": {},
   "source": [
    "아래와 같이 유저-아이템 행렬($R$)을 전치하여 만든 아이템-유저 행렬($R^{T}$) 를 각각 정규화한 후, 행렬곱을 수행해야 합니다($=\\hat {R^T} \\cdot \\hat R$) <br>\n",
    "혹은 유저-아이템 행렬($R$)을 정규화한 후 전치하여, 행렬곱을 수행해야 합니다($={\\hat R}^T \\cdot \\hat R$) \n",
    "<br>\n",
    "$$\n",
    "Cosine\\_Similarity(R^T,R) =  \\frac{R^T \\cdot R}{|R^T| |R|} = \\frac{R^T}{|R^T|}\\cdot\\frac{R}{|R|} = \\hat {R^T} \\cdot \\hat R = {\\hat R}^T \\cdot \\hat R\n",
    "$$\n",
    "<br>"
   ]
  },
  {
   "cell_type": "markdown",
   "metadata": {},
   "source": [
    "#### 1. 정규화하기"
   ]
  },
  {
   "cell_type": "code",
   "execution_count": 27,
   "metadata": {},
   "outputs": [],
   "source": [
    "adjusted_ui_matrix = adjusted_ui_df.values\n",
    "\n",
    "# 각 열 별(movie 별) norm 구하기\n",
    "norm_factor = np.sqrt(\n",
    "    np.sum(\n",
    "        np.square(adjusted_ui_matrix),axis=0))"
   ]
  },
  {
   "cell_type": "code",
   "execution_count": 28,
   "metadata": {},
   "outputs": [],
   "source": [
    "norm_factor = np.linalg.norm(adjusted_ui_matrix,axis=0) #<- 이렇게 간단하게 구할 수도 있습니다.\n",
    "norm_ui_matrix = adjusted_ui_matrix / norm_factor"
   ]
  },
  {
   "cell_type": "markdown",
   "metadata": {},
   "source": [
    "#### 2. 행렬곱연산 수행하기 "
   ]
  },
  {
   "cell_type": "code",
   "execution_count": 29,
   "metadata": {},
   "outputs": [],
   "source": [
    "norm_iu_matrix = np.transpose(norm_ui_matrix)\n",
    "cosine_similarity_output = np.dot(norm_iu_matrix, norm_ui_matrix)"
   ]
  },
  {
   "cell_type": "markdown",
   "metadata": {},
   "source": [
    "행렬곱을 이용하지 않았을 때에는 대략 1시간 정도 걸리는데, 행렬곱 연산을 이용하면 12.5초에 끝납니다. 대략 200배에서 300배 정도 빠르게 연산이 가능합니다."
   ]
  },
  {
   "cell_type": "code",
   "execution_count": 30,
   "metadata": {},
   "outputs": [
    {
     "name": "stdout",
     "output_type": "stream",
     "text": [
      "CPU times: user 32.9 s, sys: 2.49 s, total: 35.4 s\n",
      "Wall time: 12.9 s\n"
     ]
    }
   ],
   "source": [
    "%%time\n",
    "norm_factor = np.linalg.norm(adjusted_ui_matrix,axis=0)\n",
    "norm_ui_matrix = adjusted_ui_matrix / norm_factor\n",
    "norm_iu_matrix = np.transpose(norm_ui_matrix)\n",
    "cosine_similarity_output = np.dot(norm_iu_matrix, norm_ui_matrix)"
   ]
  },
  {
   "cell_type": "markdown",
   "metadata": {},
   "source": [
    "---"
   ]
  },
  {
   "cell_type": "markdown",
   "metadata": {},
   "source": [
    "### (3) 대각행렬을 0으로 채우기\n",
    "\n",
    "대각행렬은 자기 자신과의 유사도를 계산하는 것이기 때문에 항상 1로 나옵니다. 이럴 경우, 자기 자신을 추천하는 문제가 발생할 수 있어 자기 자신에 대해서는 유사도를 0으로 바꾸어 주었습니다."
   ]
  },
  {
   "cell_type": "code",
   "execution_count": 31,
   "metadata": {},
   "outputs": [],
   "source": [
    "np.fill_diagonal(cosine_similarity_output, 0)"
   ]
  },
  {
   "cell_type": "markdown",
   "metadata": {},
   "source": [
    "### (4) id를 title로 변경하기\n",
    "\n",
    "movie_id는 우리가 읽기가 어렵기 때문에, movie_title로 변경해주도록 하겠습니다."
   ]
  },
  {
   "cell_type": "code",
   "execution_count": 32,
   "metadata": {},
   "outputs": [
    {
     "data": {
      "text/html": [
       "<div>\n",
       "<style scoped>\n",
       "    .dataframe tbody tr th:only-of-type {\n",
       "        vertical-align: middle;\n",
       "    }\n",
       "\n",
       "    .dataframe tbody tr th {\n",
       "        vertical-align: top;\n",
       "    }\n",
       "\n",
       "    .dataframe thead th {\n",
       "        text-align: right;\n",
       "    }\n",
       "</style>\n",
       "<table border=\"1\" class=\"dataframe\">\n",
       "  <thead>\n",
       "    <tr style=\"text-align: right;\">\n",
       "      <th></th>\n",
       "      <th>Toy Story</th>\n",
       "      <th>Jumanji</th>\n",
       "      <th>Grumpier Old Men</th>\n",
       "      <th>Waiting to Exhale</th>\n",
       "      <th>Father of the Bride Part II</th>\n",
       "      <th>Heat</th>\n",
       "      <th>Sabrina</th>\n",
       "      <th>Tom and Huck</th>\n",
       "      <th>Sudden Death</th>\n",
       "      <th>GoldenEye</th>\n",
       "      <th>...</th>\n",
       "      <th>Her</th>\n",
       "      <th>The Lego Movie</th>\n",
       "      <th>Grand Budapest Hotel, The</th>\n",
       "      <th>Interstellar</th>\n",
       "      <th>Captain America: The Winter Soldier</th>\n",
       "      <th>X-Men: Days of Future Past</th>\n",
       "      <th>Edge of Tomorrow</th>\n",
       "      <th>Boyhood</th>\n",
       "      <th>Gone Girl</th>\n",
       "      <th>Guardians of the Galaxy</th>\n",
       "    </tr>\n",
       "  </thead>\n",
       "  <tbody>\n",
       "    <tr>\n",
       "      <th>Toy Story</th>\n",
       "      <td>0.000000</td>\n",
       "      <td>0.465921</td>\n",
       "      <td>0.335888</td>\n",
       "      <td>0.147964</td>\n",
       "      <td>0.324584</td>\n",
       "      <td>0.417938</td>\n",
       "      <td>0.306423</td>\n",
       "      <td>0.132104</td>\n",
       "      <td>0.177190</td>\n",
       "      <td>0.438620</td>\n",
       "      <td>...</td>\n",
       "      <td>0.134951</td>\n",
       "      <td>0.142281</td>\n",
       "      <td>0.121270</td>\n",
       "      <td>0.117425</td>\n",
       "      <td>0.130039</td>\n",
       "      <td>0.133574</td>\n",
       "      <td>0.122806</td>\n",
       "      <td>0.101267</td>\n",
       "      <td>0.094809</td>\n",
       "      <td>0.145492</td>\n",
       "    </tr>\n",
       "    <tr>\n",
       "      <th>Jumanji</th>\n",
       "      <td>0.465921</td>\n",
       "      <td>0.000000</td>\n",
       "      <td>0.303601</td>\n",
       "      <td>0.126080</td>\n",
       "      <td>0.346444</td>\n",
       "      <td>0.337574</td>\n",
       "      <td>0.271782</td>\n",
       "      <td>0.191040</td>\n",
       "      <td>0.159935</td>\n",
       "      <td>0.483497</td>\n",
       "      <td>...</td>\n",
       "      <td>0.088708</td>\n",
       "      <td>0.128828</td>\n",
       "      <td>0.081833</td>\n",
       "      <td>0.105101</td>\n",
       "      <td>0.118618</td>\n",
       "      <td>0.131205</td>\n",
       "      <td>0.104206</td>\n",
       "      <td>0.075101</td>\n",
       "      <td>0.071241</td>\n",
       "      <td>0.104333</td>\n",
       "    </tr>\n",
       "    <tr>\n",
       "      <th>Grumpier Old Men</th>\n",
       "      <td>0.335888</td>\n",
       "      <td>0.303601</td>\n",
       "      <td>0.000000</td>\n",
       "      <td>0.139308</td>\n",
       "      <td>0.470363</td>\n",
       "      <td>0.285895</td>\n",
       "      <td>0.350633</td>\n",
       "      <td>0.146572</td>\n",
       "      <td>0.246230</td>\n",
       "      <td>0.292165</td>\n",
       "      <td>...</td>\n",
       "      <td>0.025235</td>\n",
       "      <td>0.045153</td>\n",
       "      <td>0.005565</td>\n",
       "      <td>0.031561</td>\n",
       "      <td>0.050028</td>\n",
       "      <td>0.037892</td>\n",
       "      <td>0.049162</td>\n",
       "      <td>0.000000</td>\n",
       "      <td>0.015351</td>\n",
       "      <td>0.040659</td>\n",
       "    </tr>\n",
       "    <tr>\n",
       "      <th>Waiting to Exhale</th>\n",
       "      <td>0.147964</td>\n",
       "      <td>0.126080</td>\n",
       "      <td>0.139308</td>\n",
       "      <td>0.000000</td>\n",
       "      <td>0.195819</td>\n",
       "      <td>0.151300</td>\n",
       "      <td>0.258574</td>\n",
       "      <td>0.145244</td>\n",
       "      <td>0.181910</td>\n",
       "      <td>0.121212</td>\n",
       "      <td>...</td>\n",
       "      <td>0.000000</td>\n",
       "      <td>0.002523</td>\n",
       "      <td>0.002376</td>\n",
       "      <td>0.000000</td>\n",
       "      <td>0.000000</td>\n",
       "      <td>0.000000</td>\n",
       "      <td>0.000000</td>\n",
       "      <td>0.000000</td>\n",
       "      <td>0.000000</td>\n",
       "      <td>0.000000</td>\n",
       "    </tr>\n",
       "    <tr>\n",
       "      <th>Father of the Bride Part II</th>\n",
       "      <td>0.324584</td>\n",
       "      <td>0.346444</td>\n",
       "      <td>0.470363</td>\n",
       "      <td>0.195819</td>\n",
       "      <td>0.000000</td>\n",
       "      <td>0.237949</td>\n",
       "      <td>0.412648</td>\n",
       "      <td>0.173731</td>\n",
       "      <td>0.225173</td>\n",
       "      <td>0.281235</td>\n",
       "      <td>...</td>\n",
       "      <td>0.019357</td>\n",
       "      <td>0.050466</td>\n",
       "      <td>0.021864</td>\n",
       "      <td>0.056065</td>\n",
       "      <td>0.054027</td>\n",
       "      <td>0.058747</td>\n",
       "      <td>0.064432</td>\n",
       "      <td>0.014899</td>\n",
       "      <td>0.044127</td>\n",
       "      <td>0.051452</td>\n",
       "    </tr>\n",
       "    <tr>\n",
       "      <th>...</th>\n",
       "      <td>...</td>\n",
       "      <td>...</td>\n",
       "      <td>...</td>\n",
       "      <td>...</td>\n",
       "      <td>...</td>\n",
       "      <td>...</td>\n",
       "      <td>...</td>\n",
       "      <td>...</td>\n",
       "      <td>...</td>\n",
       "      <td>...</td>\n",
       "      <td>...</td>\n",
       "      <td>...</td>\n",
       "      <td>...</td>\n",
       "      <td>...</td>\n",
       "      <td>...</td>\n",
       "      <td>...</td>\n",
       "      <td>...</td>\n",
       "      <td>...</td>\n",
       "      <td>...</td>\n",
       "      <td>...</td>\n",
       "      <td>...</td>\n",
       "    </tr>\n",
       "    <tr>\n",
       "      <th>X-Men: Days of Future Past</th>\n",
       "      <td>0.133574</td>\n",
       "      <td>0.131205</td>\n",
       "      <td>0.037892</td>\n",
       "      <td>0.000000</td>\n",
       "      <td>0.058747</td>\n",
       "      <td>0.105438</td>\n",
       "      <td>0.035436</td>\n",
       "      <td>0.025498</td>\n",
       "      <td>0.000000</td>\n",
       "      <td>0.065668</td>\n",
       "      <td>...</td>\n",
       "      <td>0.482568</td>\n",
       "      <td>0.471213</td>\n",
       "      <td>0.436840</td>\n",
       "      <td>0.463290</td>\n",
       "      <td>0.661168</td>\n",
       "      <td>0.000000</td>\n",
       "      <td>0.659557</td>\n",
       "      <td>0.330929</td>\n",
       "      <td>0.442929</td>\n",
       "      <td>0.650735</td>\n",
       "    </tr>\n",
       "    <tr>\n",
       "      <th>Edge of Tomorrow</th>\n",
       "      <td>0.122806</td>\n",
       "      <td>0.104206</td>\n",
       "      <td>0.049162</td>\n",
       "      <td>0.000000</td>\n",
       "      <td>0.064432</td>\n",
       "      <td>0.112981</td>\n",
       "      <td>0.012326</td>\n",
       "      <td>0.026324</td>\n",
       "      <td>0.000000</td>\n",
       "      <td>0.062470</td>\n",
       "      <td>...</td>\n",
       "      <td>0.389150</td>\n",
       "      <td>0.384760</td>\n",
       "      <td>0.409984</td>\n",
       "      <td>0.554657</td>\n",
       "      <td>0.540743</td>\n",
       "      <td>0.659557</td>\n",
       "      <td>0.000000</td>\n",
       "      <td>0.351345</td>\n",
       "      <td>0.431077</td>\n",
       "      <td>0.656674</td>\n",
       "    </tr>\n",
       "    <tr>\n",
       "      <th>Boyhood</th>\n",
       "      <td>0.101267</td>\n",
       "      <td>0.075101</td>\n",
       "      <td>0.000000</td>\n",
       "      <td>0.000000</td>\n",
       "      <td>0.014899</td>\n",
       "      <td>0.072934</td>\n",
       "      <td>0.020636</td>\n",
       "      <td>0.000000</td>\n",
       "      <td>0.000000</td>\n",
       "      <td>0.046684</td>\n",
       "      <td>...</td>\n",
       "      <td>0.487251</td>\n",
       "      <td>0.255542</td>\n",
       "      <td>0.465908</td>\n",
       "      <td>0.420756</td>\n",
       "      <td>0.266164</td>\n",
       "      <td>0.330929</td>\n",
       "      <td>0.351345</td>\n",
       "      <td>0.000000</td>\n",
       "      <td>0.420677</td>\n",
       "      <td>0.452564</td>\n",
       "    </tr>\n",
       "    <tr>\n",
       "      <th>Gone Girl</th>\n",
       "      <td>0.094809</td>\n",
       "      <td>0.071241</td>\n",
       "      <td>0.015351</td>\n",
       "      <td>0.000000</td>\n",
       "      <td>0.044127</td>\n",
       "      <td>0.101207</td>\n",
       "      <td>0.034894</td>\n",
       "      <td>0.000000</td>\n",
       "      <td>0.017570</td>\n",
       "      <td>0.029162</td>\n",
       "      <td>...</td>\n",
       "      <td>0.440629</td>\n",
       "      <td>0.257935</td>\n",
       "      <td>0.439327</td>\n",
       "      <td>0.581270</td>\n",
       "      <td>0.271270</td>\n",
       "      <td>0.442929</td>\n",
       "      <td>0.431077</td>\n",
       "      <td>0.420677</td>\n",
       "      <td>0.000000</td>\n",
       "      <td>0.385920</td>\n",
       "    </tr>\n",
       "    <tr>\n",
       "      <th>Guardians of the Galaxy</th>\n",
       "      <td>0.145492</td>\n",
       "      <td>0.104333</td>\n",
       "      <td>0.040659</td>\n",
       "      <td>0.000000</td>\n",
       "      <td>0.051452</td>\n",
       "      <td>0.098087</td>\n",
       "      <td>0.034142</td>\n",
       "      <td>0.021620</td>\n",
       "      <td>0.016245</td>\n",
       "      <td>0.087162</td>\n",
       "      <td>...</td>\n",
       "      <td>0.486907</td>\n",
       "      <td>0.450554</td>\n",
       "      <td>0.477333</td>\n",
       "      <td>0.485615</td>\n",
       "      <td>0.561530</td>\n",
       "      <td>0.650735</td>\n",
       "      <td>0.656674</td>\n",
       "      <td>0.452564</td>\n",
       "      <td>0.385920</td>\n",
       "      <td>0.000000</td>\n",
       "    </tr>\n",
       "  </tbody>\n",
       "</table>\n",
       "<p>3410 rows × 3410 columns</p>\n",
       "</div>"
      ],
      "text/plain": [
       "                             Toy Story   Jumanji  Grumpier Old Men  \\\n",
       "Toy Story                     0.000000  0.465921          0.335888   \n",
       "Jumanji                       0.465921  0.000000          0.303601   \n",
       "Grumpier Old Men              0.335888  0.303601          0.000000   \n",
       "Waiting to Exhale             0.147964  0.126080          0.139308   \n",
       "Father of the Bride Part II   0.324584  0.346444          0.470363   \n",
       "...                                ...       ...               ...   \n",
       "X-Men: Days of Future Past    0.133574  0.131205          0.037892   \n",
       "Edge of Tomorrow              0.122806  0.104206          0.049162   \n",
       "Boyhood                       0.101267  0.075101          0.000000   \n",
       "Gone Girl                     0.094809  0.071241          0.015351   \n",
       "Guardians of the Galaxy       0.145492  0.104333          0.040659   \n",
       "\n",
       "                             Waiting to Exhale  Father of the Bride Part II  \\\n",
       "Toy Story                             0.147964                     0.324584   \n",
       "Jumanji                               0.126080                     0.346444   \n",
       "Grumpier Old Men                      0.139308                     0.470363   \n",
       "Waiting to Exhale                     0.000000                     0.195819   \n",
       "Father of the Bride Part II           0.195819                     0.000000   \n",
       "...                                        ...                          ...   \n",
       "X-Men: Days of Future Past            0.000000                     0.058747   \n",
       "Edge of Tomorrow                      0.000000                     0.064432   \n",
       "Boyhood                               0.000000                     0.014899   \n",
       "Gone Girl                             0.000000                     0.044127   \n",
       "Guardians of the Galaxy               0.000000                     0.051452   \n",
       "\n",
       "                                 Heat   Sabrina  Tom and Huck  Sudden Death  \\\n",
       "Toy Story                    0.417938  0.306423      0.132104      0.177190   \n",
       "Jumanji                      0.337574  0.271782      0.191040      0.159935   \n",
       "Grumpier Old Men             0.285895  0.350633      0.146572      0.246230   \n",
       "Waiting to Exhale            0.151300  0.258574      0.145244      0.181910   \n",
       "Father of the Bride Part II  0.237949  0.412648      0.173731      0.225173   \n",
       "...                               ...       ...           ...           ...   \n",
       "X-Men: Days of Future Past   0.105438  0.035436      0.025498      0.000000   \n",
       "Edge of Tomorrow             0.112981  0.012326      0.026324      0.000000   \n",
       "Boyhood                      0.072934  0.020636      0.000000      0.000000   \n",
       "Gone Girl                    0.101207  0.034894      0.000000      0.017570   \n",
       "Guardians of the Galaxy      0.098087  0.034142      0.021620      0.016245   \n",
       "\n",
       "                             GoldenEye  ...       Her  The Lego Movie  \\\n",
       "Toy Story                     0.438620  ...  0.134951        0.142281   \n",
       "Jumanji                       0.483497  ...  0.088708        0.128828   \n",
       "Grumpier Old Men              0.292165  ...  0.025235        0.045153   \n",
       "Waiting to Exhale             0.121212  ...  0.000000        0.002523   \n",
       "Father of the Bride Part II   0.281235  ...  0.019357        0.050466   \n",
       "...                                ...  ...       ...             ...   \n",
       "X-Men: Days of Future Past    0.065668  ...  0.482568        0.471213   \n",
       "Edge of Tomorrow              0.062470  ...  0.389150        0.384760   \n",
       "Boyhood                       0.046684  ...  0.487251        0.255542   \n",
       "Gone Girl                     0.029162  ...  0.440629        0.257935   \n",
       "Guardians of the Galaxy       0.087162  ...  0.486907        0.450554   \n",
       "\n",
       "                             Grand Budapest Hotel, The  Interstellar  \\\n",
       "Toy Story                                     0.121270      0.117425   \n",
       "Jumanji                                       0.081833      0.105101   \n",
       "Grumpier Old Men                              0.005565      0.031561   \n",
       "Waiting to Exhale                             0.002376      0.000000   \n",
       "Father of the Bride Part II                   0.021864      0.056065   \n",
       "...                                                ...           ...   \n",
       "X-Men: Days of Future Past                    0.436840      0.463290   \n",
       "Edge of Tomorrow                              0.409984      0.554657   \n",
       "Boyhood                                       0.465908      0.420756   \n",
       "Gone Girl                                     0.439327      0.581270   \n",
       "Guardians of the Galaxy                       0.477333      0.485615   \n",
       "\n",
       "                             Captain America: The Winter Soldier  \\\n",
       "Toy Story                                               0.130039   \n",
       "Jumanji                                                 0.118618   \n",
       "Grumpier Old Men                                        0.050028   \n",
       "Waiting to Exhale                                       0.000000   \n",
       "Father of the Bride Part II                             0.054027   \n",
       "...                                                          ...   \n",
       "X-Men: Days of Future Past                              0.661168   \n",
       "Edge of Tomorrow                                        0.540743   \n",
       "Boyhood                                                 0.266164   \n",
       "Gone Girl                                               0.271270   \n",
       "Guardians of the Galaxy                                 0.561530   \n",
       "\n",
       "                             X-Men: Days of Future Past  Edge of Tomorrow  \\\n",
       "Toy Story                                      0.133574          0.122806   \n",
       "Jumanji                                        0.131205          0.104206   \n",
       "Grumpier Old Men                               0.037892          0.049162   \n",
       "Waiting to Exhale                              0.000000          0.000000   \n",
       "Father of the Bride Part II                    0.058747          0.064432   \n",
       "...                                                 ...               ...   \n",
       "X-Men: Days of Future Past                     0.000000          0.659557   \n",
       "Edge of Tomorrow                               0.659557          0.000000   \n",
       "Boyhood                                        0.330929          0.351345   \n",
       "Gone Girl                                      0.442929          0.431077   \n",
       "Guardians of the Galaxy                        0.650735          0.656674   \n",
       "\n",
       "                              Boyhood  Gone Girl  Guardians of the Galaxy  \n",
       "Toy Story                    0.101267   0.094809                 0.145492  \n",
       "Jumanji                      0.075101   0.071241                 0.104333  \n",
       "Grumpier Old Men             0.000000   0.015351                 0.040659  \n",
       "Waiting to Exhale            0.000000   0.000000                 0.000000  \n",
       "Father of the Bride Part II  0.014899   0.044127                 0.051452  \n",
       "...                               ...        ...                      ...  \n",
       "X-Men: Days of Future Past   0.330929   0.442929                 0.650735  \n",
       "Edge of Tomorrow             0.351345   0.431077                 0.656674  \n",
       "Boyhood                      0.000000   0.420677                 0.452564  \n",
       "Gone Girl                    0.420677   0.000000                 0.385920  \n",
       "Guardians of the Galaxy      0.452564   0.385920                 0.000000  \n",
       "\n",
       "[3410 rows x 3410 columns]"
      ]
     },
     "execution_count": 32,
     "metadata": {},
     "output_type": "execute_result"
    }
   ],
   "source": [
    "movie_ids = ui_df.columns\n",
    "id2title = dict(zip(movie_df.id,movie_df.title))\n",
    "movie_titles = [id2title[i] for i in movie_ids]\n",
    "\n",
    "cosine_similarity_df = pd.DataFrame(\n",
    "    cosine_similarity_output, \n",
    "    index=movie_titles, \n",
    "    columns=movie_titles)\n",
    "\n",
    "cosine_similarity_df"
   ]
  },
  {
   "cell_type": "markdown",
   "metadata": {},
   "source": [
    "## 6. 유사도 행렬을 바탕으로 유사 제품 추천하기\n",
    "\n",
    "이제 코사인 유사도로 채워진 유사도 행렬이 완성되었습니다. 유사도 행렬을 이용해서 어떤 영화를 보았다고 할 때, 어떤 영화를 추천하는지 봅시다."
   ]
  },
  {
   "cell_type": "markdown",
   "metadata": {},
   "source": [
    "#### 토이스토리와 유사한 영화"
   ]
  },
  {
   "cell_type": "code",
   "execution_count": 33,
   "metadata": {},
   "outputs": [
    {
     "data": {
      "text/plain": [
       "Forrest Gump                                  0.647886\n",
       "Star Wars: Episode IV - A New Hope            0.640314\n",
       "Star Wars: Episode VI - Return of the Jedi    0.626862\n",
       "Lion King, The                                0.626330\n",
       "Toy Story 2                                   0.626258\n",
       "Name: Toy Story, dtype: float64"
      ]
     },
     "execution_count": 33,
     "metadata": {},
     "output_type": "execute_result"
    }
   ],
   "source": [
    "(\n",
    "    cosine_similarity_df\n",
    "    .loc['Toy Story']\n",
    "    .sort_values(ascending=False)\n",
    "    .iloc[:5]\n",
    ")"
   ]
  },
  {
   "cell_type": "markdown",
   "metadata": {},
   "source": [
    "#### 스타워즈와 유사한 영화"
   ]
  },
  {
   "cell_type": "code",
   "execution_count": 34,
   "metadata": {},
   "outputs": [
    {
     "data": {
      "text/plain": [
       "Star Wars: Episode V - The Empire Strikes Back                             0.851311\n",
       "Star Wars: Episode VI - Return of the Jedi                                 0.841000\n",
       "Raiders of the Lost Ark (Indiana Jones and the Raiders of the Lost Ark)    0.743605\n",
       "Back to the Future                                                         0.689994\n",
       "Indiana Jones and the Last Crusade                                         0.689198\n",
       "Name: Star Wars: Episode IV - A New Hope, dtype: float64"
      ]
     },
     "execution_count": 34,
     "metadata": {},
     "output_type": "execute_result"
    }
   ],
   "source": [
    "(\n",
    "    cosine_similarity_df\n",
    "    .loc['Star Wars: Episode IV - A New Hope']\n",
    "    .sort_values(ascending=False)\n",
    "    .iloc[:5]\n",
    ")"
   ]
  },
  {
   "cell_type": "markdown",
   "metadata": {},
   "source": [
    "#### 쏘우와 유사한 영화"
   ]
  },
  {
   "cell_type": "code",
   "execution_count": 35,
   "metadata": {},
   "outputs": [
    {
     "data": {
      "text/plain": [
       "Saw II                  0.557432\n",
       "The Butterfly Effect    0.463747\n",
       "Saw III                 0.444083\n",
       "Identity                0.424483\n",
       "I, Robot                0.419320\n",
       "Name: Saw, dtype: float64"
      ]
     },
     "execution_count": 35,
     "metadata": {},
     "output_type": "execute_result"
    }
   ],
   "source": [
    "(\n",
    "    cosine_similarity_df\n",
    "    .loc['Saw']\n",
    "    .sort_values(ascending=False)\n",
    "    .iloc[:5]\n",
    ")"
   ]
  },
  {
   "cell_type": "markdown",
   "metadata": {},
   "source": [
    "#### 링와 유사한 영화"
   ]
  },
  {
   "cell_type": "code",
   "execution_count": 36,
   "metadata": {},
   "outputs": [
    {
     "data": {
      "text/plain": [
       "Others, The       0.514384\n",
       "Signs             0.505377\n",
       "Identity          0.490836\n",
       "28 Days Later     0.482338\n",
       "Bruce Almighty    0.478180\n",
       "Name: Ring, The, dtype: float64"
      ]
     },
     "execution_count": 36,
     "metadata": {},
     "output_type": "execute_result"
    }
   ],
   "source": [
    "(\n",
    "    cosine_similarity_df\n",
    "    .loc['Ring, The']\n",
    "    .sort_values(ascending=False)\n",
    "    .iloc[:5]\n",
    ")"
   ]
  },
  {
   "cell_type": "markdown",
   "metadata": {},
   "source": [
    "# \\[  더 나아가기 \\]\n",
    "---\n",
    "\n"
   ]
  },
  {
   "cell_type": "markdown",
   "metadata": {},
   "source": [
    "## 1. 유클리디안 유사도 수식을 통해 유사도 행렬 구성하기\n",
    "\n",
    "앞서 코사인 유사도를 이용해 유사도 행렬을 구하고, 영화를 추천하는 시스템을 구현해보았습니다. 이번에는 코사인 유사도 대신 유클리디안 유사도를 써봅시다.\n",
    "\n",
    "\n",
    "$$\n",
    "distance(X,Y) = \\sqrt{\\sum(X_i - Y_i)^2} = \\sqrt{\\sum(X_i^2 + Y_i^2 - 2X_iY_i)} = \\sqrt{\\sum X_i^2 + \\sum Y_i^2 - 2 X \\cdot Y}\n",
    "$$\n",
    "\n",
    "이번에도 코사인 유사도 때와 같이 sklearn과 벡터 연산을 이용해 풀도록 하겠습니다."
   ]
  },
  {
   "cell_type": "markdown",
   "metadata": {},
   "source": [
    "### (1) scikit learn으로 풀기"
   ]
  },
  {
   "cell_type": "code",
   "execution_count": 37,
   "metadata": {},
   "outputs": [
    {
     "data": {
      "text/html": [
       "<div>\n",
       "<style scoped>\n",
       "    .dataframe tbody tr th:only-of-type {\n",
       "        vertical-align: middle;\n",
       "    }\n",
       "\n",
       "    .dataframe tbody tr th {\n",
       "        vertical-align: top;\n",
       "    }\n",
       "\n",
       "    .dataframe thead th {\n",
       "        text-align: right;\n",
       "    }\n",
       "</style>\n",
       "<table border=\"1\" class=\"dataframe\">\n",
       "  <thead>\n",
       "    <tr style=\"text-align: right;\">\n",
       "      <th></th>\n",
       "      <th>Toy Story</th>\n",
       "      <th>Jumanji</th>\n",
       "      <th>Grumpier Old Men</th>\n",
       "      <th>Waiting to Exhale</th>\n",
       "      <th>Father of the Bride Part II</th>\n",
       "      <th>Heat</th>\n",
       "      <th>Sabrina</th>\n",
       "      <th>Tom and Huck</th>\n",
       "      <th>Sudden Death</th>\n",
       "      <th>GoldenEye</th>\n",
       "      <th>...</th>\n",
       "      <th>Her</th>\n",
       "      <th>The Lego Movie</th>\n",
       "      <th>Grand Budapest Hotel, The</th>\n",
       "      <th>Interstellar</th>\n",
       "      <th>Captain America: The Winter Soldier</th>\n",
       "      <th>X-Men: Days of Future Past</th>\n",
       "      <th>Edge of Tomorrow</th>\n",
       "      <th>Boyhood</th>\n",
       "      <th>Gone Girl</th>\n",
       "      <th>Guardians of the Galaxy</th>\n",
       "    </tr>\n",
       "  </thead>\n",
       "  <tbody>\n",
       "    <tr>\n",
       "      <th>Toy Story</th>\n",
       "      <td>0.000000</td>\n",
       "      <td>0.004643</td>\n",
       "      <td>0.004397</td>\n",
       "      <td>0.004196</td>\n",
       "      <td>0.004375</td>\n",
       "      <td>0.004332</td>\n",
       "      <td>0.004315</td>\n",
       "      <td>0.004190</td>\n",
       "      <td>0.004217</td>\n",
       "      <td>0.004469</td>\n",
       "      <td>...</td>\n",
       "      <td>0.004185</td>\n",
       "      <td>0.004196</td>\n",
       "      <td>0.004167</td>\n",
       "      <td>0.004174</td>\n",
       "      <td>0.004188</td>\n",
       "      <td>0.004189</td>\n",
       "      <td>0.004183</td>\n",
       "      <td>0.004176</td>\n",
       "      <td>0.004161</td>\n",
       "      <td>0.004193</td>\n",
       "    </tr>\n",
       "    <tr>\n",
       "      <th>Jumanji</th>\n",
       "      <td>0.004643</td>\n",
       "      <td>0.000000</td>\n",
       "      <td>0.006751</td>\n",
       "      <td>0.006843</td>\n",
       "      <td>0.006956</td>\n",
       "      <td>0.005400</td>\n",
       "      <td>0.006444</td>\n",
       "      <td>0.007040</td>\n",
       "      <td>0.006864</td>\n",
       "      <td>0.006369</td>\n",
       "      <td>...</td>\n",
       "      <td>0.006760</td>\n",
       "      <td>0.006906</td>\n",
       "      <td>0.006696</td>\n",
       "      <td>0.006822</td>\n",
       "      <td>0.006895</td>\n",
       "      <td>0.006905</td>\n",
       "      <td>0.006864</td>\n",
       "      <td>0.006891</td>\n",
       "      <td>0.006791</td>\n",
       "      <td>0.006782</td>\n",
       "    </tr>\n",
       "    <tr>\n",
       "      <th>Grumpier Old Men</th>\n",
       "      <td>0.004397</td>\n",
       "      <td>0.006751</td>\n",
       "      <td>0.000000</td>\n",
       "      <td>0.009608</td>\n",
       "      <td>0.009810</td>\n",
       "      <td>0.005730</td>\n",
       "      <td>0.008415</td>\n",
       "      <td>0.009888</td>\n",
       "      <td>0.009930</td>\n",
       "      <td>0.006091</td>\n",
       "      <td>...</td>\n",
       "      <td>0.009157</td>\n",
       "      <td>0.009456</td>\n",
       "      <td>0.008930</td>\n",
       "      <td>0.009271</td>\n",
       "      <td>0.009508</td>\n",
       "      <td>0.009411</td>\n",
       "      <td>0.009490</td>\n",
       "      <td>0.009636</td>\n",
       "      <td>0.009335</td>\n",
       "      <td>0.009174</td>\n",
       "    </tr>\n",
       "    <tr>\n",
       "      <th>Waiting to Exhale</th>\n",
       "      <td>0.004196</td>\n",
       "      <td>0.006843</td>\n",
       "      <td>0.009608</td>\n",
       "      <td>0.000000</td>\n",
       "      <td>0.009905</td>\n",
       "      <td>0.005744</td>\n",
       "      <td>0.009337</td>\n",
       "      <td>0.017441</td>\n",
       "      <td>0.015230</td>\n",
       "      <td>0.006088</td>\n",
       "      <td>...</td>\n",
       "      <td>0.014657</td>\n",
       "      <td>0.015765</td>\n",
       "      <td>0.014035</td>\n",
       "      <td>0.015069</td>\n",
       "      <td>0.015930</td>\n",
       "      <td>0.015642</td>\n",
       "      <td>0.015851</td>\n",
       "      <td>0.017542</td>\n",
       "      <td>0.015642</td>\n",
       "      <td>0.014485</td>\n",
       "    </tr>\n",
       "    <tr>\n",
       "      <th>Father of the Bride Part II</th>\n",
       "      <td>0.004375</td>\n",
       "      <td>0.006956</td>\n",
       "      <td>0.009810</td>\n",
       "      <td>0.009905</td>\n",
       "      <td>0.000000</td>\n",
       "      <td>0.005587</td>\n",
       "      <td>0.008864</td>\n",
       "      <td>0.010044</td>\n",
       "      <td>0.009871</td>\n",
       "      <td>0.006058</td>\n",
       "      <td>...</td>\n",
       "      <td>0.009180</td>\n",
       "      <td>0.009524</td>\n",
       "      <td>0.009033</td>\n",
       "      <td>0.009407</td>\n",
       "      <td>0.009571</td>\n",
       "      <td>0.009533</td>\n",
       "      <td>0.009593</td>\n",
       "      <td>0.009729</td>\n",
       "      <td>0.009482</td>\n",
       "      <td>0.009260</td>\n",
       "    </tr>\n",
       "    <tr>\n",
       "      <th>...</th>\n",
       "      <td>...</td>\n",
       "      <td>...</td>\n",
       "      <td>...</td>\n",
       "      <td>...</td>\n",
       "      <td>...</td>\n",
       "      <td>...</td>\n",
       "      <td>...</td>\n",
       "      <td>...</td>\n",
       "      <td>...</td>\n",
       "      <td>...</td>\n",
       "      <td>...</td>\n",
       "      <td>...</td>\n",
       "      <td>...</td>\n",
       "      <td>...</td>\n",
       "      <td>...</td>\n",
       "      <td>...</td>\n",
       "      <td>...</td>\n",
       "      <td>...</td>\n",
       "      <td>...</td>\n",
       "      <td>...</td>\n",
       "      <td>...</td>\n",
       "    </tr>\n",
       "    <tr>\n",
       "      <th>X-Men: Days of Future Past</th>\n",
       "      <td>0.004189</td>\n",
       "      <td>0.006905</td>\n",
       "      <td>0.009411</td>\n",
       "      <td>0.015642</td>\n",
       "      <td>0.009533</td>\n",
       "      <td>0.005702</td>\n",
       "      <td>0.008678</td>\n",
       "      <td>0.017702</td>\n",
       "      <td>0.014586</td>\n",
       "      <td>0.006038</td>\n",
       "      <td>...</td>\n",
       "      <td>0.021461</td>\n",
       "      <td>0.023143</td>\n",
       "      <td>0.019489</td>\n",
       "      <td>0.021819</td>\n",
       "      <td>0.029107</td>\n",
       "      <td>0.000000</td>\n",
       "      <td>0.028888</td>\n",
       "      <td>0.023136</td>\n",
       "      <td>0.022391</td>\n",
       "      <td>0.025466</td>\n",
       "    </tr>\n",
       "    <tr>\n",
       "      <th>Edge of Tomorrow</th>\n",
       "      <td>0.004183</td>\n",
       "      <td>0.006864</td>\n",
       "      <td>0.009490</td>\n",
       "      <td>0.015851</td>\n",
       "      <td>0.009593</td>\n",
       "      <td>0.005718</td>\n",
       "      <td>0.008644</td>\n",
       "      <td>0.018008</td>\n",
       "      <td>0.014756</td>\n",
       "      <td>0.006042</td>\n",
       "      <td>...</td>\n",
       "      <td>0.020047</td>\n",
       "      <td>0.021830</td>\n",
       "      <td>0.019248</td>\n",
       "      <td>0.024178</td>\n",
       "      <td>0.025531</td>\n",
       "      <td>0.028888</td>\n",
       "      <td>0.000000</td>\n",
       "      <td>0.023999</td>\n",
       "      <td>0.022501</td>\n",
       "      <td>0.025869</td>\n",
       "    </tr>\n",
       "    <tr>\n",
       "      <th>Boyhood</th>\n",
       "      <td>0.004176</td>\n",
       "      <td>0.006891</td>\n",
       "      <td>0.009636</td>\n",
       "      <td>0.017542</td>\n",
       "      <td>0.009729</td>\n",
       "      <td>0.005708</td>\n",
       "      <td>0.008897</td>\n",
       "      <td>0.020270</td>\n",
       "      <td>0.016088</td>\n",
       "      <td>0.006082</td>\n",
       "      <td>...</td>\n",
       "      <td>0.023189</td>\n",
       "      <td>0.022281</td>\n",
       "      <td>0.021145</td>\n",
       "      <td>0.023137</td>\n",
       "      <td>0.022864</td>\n",
       "      <td>0.023136</td>\n",
       "      <td>0.023999</td>\n",
       "      <td>0.000000</td>\n",
       "      <td>0.024681</td>\n",
       "      <td>0.022134</td>\n",
       "    </tr>\n",
       "    <tr>\n",
       "      <th>Gone Girl</th>\n",
       "      <td>0.004161</td>\n",
       "      <td>0.006791</td>\n",
       "      <td>0.009335</td>\n",
       "      <td>0.015642</td>\n",
       "      <td>0.009482</td>\n",
       "      <td>0.005697</td>\n",
       "      <td>0.008676</td>\n",
       "      <td>0.017479</td>\n",
       "      <td>0.014710</td>\n",
       "      <td>0.005984</td>\n",
       "      <td>...</td>\n",
       "      <td>0.020672</td>\n",
       "      <td>0.019607</td>\n",
       "      <td>0.019529</td>\n",
       "      <td>0.024609</td>\n",
       "      <td>0.020048</td>\n",
       "      <td>0.022391</td>\n",
       "      <td>0.022501</td>\n",
       "      <td>0.024681</td>\n",
       "      <td>0.000000</td>\n",
       "      <td>0.019481</td>\n",
       "    </tr>\n",
       "    <tr>\n",
       "      <th>Guardians of the Galaxy</th>\n",
       "      <td>0.004193</td>\n",
       "      <td>0.006782</td>\n",
       "      <td>0.009174</td>\n",
       "      <td>0.014485</td>\n",
       "      <td>0.009260</td>\n",
       "      <td>0.005654</td>\n",
       "      <td>0.008479</td>\n",
       "      <td>0.016071</td>\n",
       "      <td>0.013746</td>\n",
       "      <td>0.006019</td>\n",
       "      <td>...</td>\n",
       "      <td>0.020060</td>\n",
       "      <td>0.020656</td>\n",
       "      <td>0.019026</td>\n",
       "      <td>0.020551</td>\n",
       "      <td>0.023167</td>\n",
       "      <td>0.025466</td>\n",
       "      <td>0.025869</td>\n",
       "      <td>0.022134</td>\n",
       "      <td>0.019481</td>\n",
       "      <td>0.000000</td>\n",
       "    </tr>\n",
       "  </tbody>\n",
       "</table>\n",
       "<p>3410 rows × 3410 columns</p>\n",
       "</div>"
      ],
      "text/plain": [
       "                             Toy Story   Jumanji  Grumpier Old Men  \\\n",
       "Toy Story                     0.000000  0.004643          0.004397   \n",
       "Jumanji                       0.004643  0.000000          0.006751   \n",
       "Grumpier Old Men              0.004397  0.006751          0.000000   \n",
       "Waiting to Exhale             0.004196  0.006843          0.009608   \n",
       "Father of the Bride Part II   0.004375  0.006956          0.009810   \n",
       "...                                ...       ...               ...   \n",
       "X-Men: Days of Future Past    0.004189  0.006905          0.009411   \n",
       "Edge of Tomorrow              0.004183  0.006864          0.009490   \n",
       "Boyhood                       0.004176  0.006891          0.009636   \n",
       "Gone Girl                     0.004161  0.006791          0.009335   \n",
       "Guardians of the Galaxy       0.004193  0.006782          0.009174   \n",
       "\n",
       "                             Waiting to Exhale  Father of the Bride Part II  \\\n",
       "Toy Story                             0.004196                     0.004375   \n",
       "Jumanji                               0.006843                     0.006956   \n",
       "Grumpier Old Men                      0.009608                     0.009810   \n",
       "Waiting to Exhale                     0.000000                     0.009905   \n",
       "Father of the Bride Part II           0.009905                     0.000000   \n",
       "...                                        ...                          ...   \n",
       "X-Men: Days of Future Past            0.015642                     0.009533   \n",
       "Edge of Tomorrow                      0.015851                     0.009593   \n",
       "Boyhood                               0.017542                     0.009729   \n",
       "Gone Girl                             0.015642                     0.009482   \n",
       "Guardians of the Galaxy               0.014485                     0.009260   \n",
       "\n",
       "                                 Heat   Sabrina  Tom and Huck  Sudden Death  \\\n",
       "Toy Story                    0.004332  0.004315      0.004190      0.004217   \n",
       "Jumanji                      0.005400  0.006444      0.007040      0.006864   \n",
       "Grumpier Old Men             0.005730  0.008415      0.009888      0.009930   \n",
       "Waiting to Exhale            0.005744  0.009337      0.017441      0.015230   \n",
       "Father of the Bride Part II  0.005587  0.008864      0.010044      0.009871   \n",
       "...                               ...       ...           ...           ...   \n",
       "X-Men: Days of Future Past   0.005702  0.008678      0.017702      0.014586   \n",
       "Edge of Tomorrow             0.005718  0.008644      0.018008      0.014756   \n",
       "Boyhood                      0.005708  0.008897      0.020270      0.016088   \n",
       "Gone Girl                    0.005697  0.008676      0.017479      0.014710   \n",
       "Guardians of the Galaxy      0.005654  0.008479      0.016071      0.013746   \n",
       "\n",
       "                             GoldenEye  ...       Her  The Lego Movie  \\\n",
       "Toy Story                     0.004469  ...  0.004185        0.004196   \n",
       "Jumanji                       0.006369  ...  0.006760        0.006906   \n",
       "Grumpier Old Men              0.006091  ...  0.009157        0.009456   \n",
       "Waiting to Exhale             0.006088  ...  0.014657        0.015765   \n",
       "Father of the Bride Part II   0.006058  ...  0.009180        0.009524   \n",
       "...                                ...  ...       ...             ...   \n",
       "X-Men: Days of Future Past    0.006038  ...  0.021461        0.023143   \n",
       "Edge of Tomorrow              0.006042  ...  0.020047        0.021830   \n",
       "Boyhood                       0.006082  ...  0.023189        0.022281   \n",
       "Gone Girl                     0.005984  ...  0.020672        0.019607   \n",
       "Guardians of the Galaxy       0.006019  ...  0.020060        0.020656   \n",
       "\n",
       "                             Grand Budapest Hotel, The  Interstellar  \\\n",
       "Toy Story                                     0.004167      0.004174   \n",
       "Jumanji                                       0.006696      0.006822   \n",
       "Grumpier Old Men                              0.008930      0.009271   \n",
       "Waiting to Exhale                             0.014035      0.015069   \n",
       "Father of the Bride Part II                   0.009033      0.009407   \n",
       "...                                                ...           ...   \n",
       "X-Men: Days of Future Past                    0.019489      0.021819   \n",
       "Edge of Tomorrow                              0.019248      0.024178   \n",
       "Boyhood                                       0.021145      0.023137   \n",
       "Gone Girl                                     0.019529      0.024609   \n",
       "Guardians of the Galaxy                       0.019026      0.020551   \n",
       "\n",
       "                             Captain America: The Winter Soldier  \\\n",
       "Toy Story                                               0.004188   \n",
       "Jumanji                                                 0.006895   \n",
       "Grumpier Old Men                                        0.009508   \n",
       "Waiting to Exhale                                       0.015930   \n",
       "Father of the Bride Part II                             0.009571   \n",
       "...                                                          ...   \n",
       "X-Men: Days of Future Past                              0.029107   \n",
       "Edge of Tomorrow                                        0.025531   \n",
       "Boyhood                                                 0.022864   \n",
       "Gone Girl                                               0.020048   \n",
       "Guardians of the Galaxy                                 0.023167   \n",
       "\n",
       "                             X-Men: Days of Future Past  Edge of Tomorrow  \\\n",
       "Toy Story                                      0.004189          0.004183   \n",
       "Jumanji                                        0.006905          0.006864   \n",
       "Grumpier Old Men                               0.009411          0.009490   \n",
       "Waiting to Exhale                              0.015642          0.015851   \n",
       "Father of the Bride Part II                    0.009533          0.009593   \n",
       "...                                                 ...               ...   \n",
       "X-Men: Days of Future Past                     0.000000          0.028888   \n",
       "Edge of Tomorrow                               0.028888          0.000000   \n",
       "Boyhood                                        0.023136          0.023999   \n",
       "Gone Girl                                      0.022391          0.022501   \n",
       "Guardians of the Galaxy                        0.025466          0.025869   \n",
       "\n",
       "                              Boyhood  Gone Girl  Guardians of the Galaxy  \n",
       "Toy Story                    0.004176   0.004161                 0.004193  \n",
       "Jumanji                      0.006891   0.006791                 0.006782  \n",
       "Grumpier Old Men             0.009636   0.009335                 0.009174  \n",
       "Waiting to Exhale            0.017542   0.015642                 0.014485  \n",
       "Father of the Bride Part II  0.009729   0.009482                 0.009260  \n",
       "...                               ...        ...                      ...  \n",
       "X-Men: Days of Future Past   0.023136   0.022391                 0.025466  \n",
       "Edge of Tomorrow             0.023999   0.022501                 0.025869  \n",
       "Boyhood                      0.000000   0.024681                 0.022134  \n",
       "Gone Girl                    0.024681   0.000000                 0.019481  \n",
       "Guardians of the Galaxy      0.022134   0.019481                 0.000000  \n",
       "\n",
       "[3410 rows x 3410 columns]"
      ]
     },
     "execution_count": 37,
     "metadata": {},
     "output_type": "execute_result"
    }
   ],
   "source": [
    "from sklearn.metrics.pairwise import euclidean_distances\n",
    "\n",
    "# sklearn으로 해결하기\n",
    "dist = euclidean_distances(adjusted_ui_matrix.T)\n",
    "\n",
    "euclidean_similarity_output = 1 / (1 + dist)\n",
    "np.fill_diagonal(euclidean_similarity_output,0)\n",
    "\n",
    "movie_ids = ui_df.columns\n",
    "id2title = dict(zip(movie_df.id,movie_df.title))\n",
    "movie_titles = [id2title[i] for i in movie_ids]\n",
    "\n",
    "euclidean_similarity_df = pd.DataFrame(\n",
    "    euclidean_similarity_output, \n",
    "    index=movie_titles, \n",
    "    columns=movie_titles)\n",
    "\n",
    "euclidean_similarity_df"
   ]
  },
  {
   "cell_type": "markdown",
   "metadata": {},
   "source": [
    "----\n",
    "\n",
    "### \\[ Additional \\] Vectorize로 연산하기\n",
    "\n",
    "$$\n",
    "distance(X,Y) = \\sqrt{\\sum(X_i - Y_i)^2} = \\sqrt{\\sum(X_i^2 + Y_i^2 - 2X_iY_i)} = \\sqrt{\\sum X_i^2 + \\sum Y_i^2 - 2 X \\cdot Y} \\\\\n",
    "sim(X,Y) = \\frac{1}{1+distance(X,Y)}\n",
    "$$\n",
    "\n"
   ]
  },
  {
   "cell_type": "markdown",
   "metadata": {},
   "source": [
    "#### 1. 제곱 값 계산하기  ($\\sum X_i^2$,   $\\sum Y_i^2$)"
   ]
  },
  {
   "cell_type": "code",
   "execution_count": 38,
   "metadata": {},
   "outputs": [],
   "source": [
    "square_R = np.sum(adjusted_ui_matrix**2, axis=0)"
   ]
  },
  {
   "cell_type": "markdown",
   "metadata": {},
   "source": [
    "#### 2. Dot 연산 계산하기"
   ]
  },
  {
   "cell_type": "code",
   "execution_count": 39,
   "metadata": {},
   "outputs": [],
   "source": [
    "dot_R = np.dot(adjusted_ui_matrix.T, adjusted_ui_matrix)"
   ]
  },
  {
   "cell_type": "markdown",
   "metadata": {},
   "source": [
    "#### 3. 유클리디안 거리 구하기"
   ]
  },
  {
   "cell_type": "code",
   "execution_count": 40,
   "metadata": {},
   "outputs": [
    {
     "name": "stderr",
     "output_type": "stream",
     "text": [
      "/Users/ksj/anaconda3/lib/python3.6/site-packages/ipykernel_launcher.py:1: RuntimeWarning: invalid value encountered in sqrt\n",
      "  \"\"\"Entry point for launching an IPython kernel.\n"
     ]
    }
   ],
   "source": [
    "euclidean_distance = np.sqrt(np.add.outer(square_R, square_R) - 2 * dot_R)"
   ]
  },
  {
   "cell_type": "markdown",
   "metadata": {},
   "source": [
    "#### 4. 유클리디안 유사도 계산하기"
   ]
  },
  {
   "cell_type": "code",
   "execution_count": 41,
   "metadata": {},
   "outputs": [],
   "source": [
    "euclidean_similarity_output = 1/ (1 + euclidean_distance)"
   ]
  },
  {
   "cell_type": "markdown",
   "metadata": {},
   "source": [
    "----"
   ]
  },
  {
   "cell_type": "markdown",
   "metadata": {},
   "source": [
    "### (3) 대각행렬을 0으로 채우기\n"
   ]
  },
  {
   "cell_type": "code",
   "execution_count": 42,
   "metadata": {},
   "outputs": [],
   "source": [
    "np.fill_diagonal(euclidean_similarity_output,0.)"
   ]
  },
  {
   "cell_type": "markdown",
   "metadata": {},
   "source": [
    "### (4)   id를 title로 변경하기\n",
    "\n",
    "movie_id는 우리가 읽기가 어렵기 때문에, movie_title로 변경해주도록 하겠습니다."
   ]
  },
  {
   "cell_type": "code",
   "execution_count": 43,
   "metadata": {},
   "outputs": [],
   "source": [
    "euclidean_similarity_df = pd.DataFrame(\n",
    "    euclidean_similarity_output, \n",
    "    index=movie_titles, \n",
    "    columns=movie_titles)"
   ]
  },
  {
   "cell_type": "markdown",
   "metadata": {},
   "source": [
    "---"
   ]
  },
  {
   "cell_type": "markdown",
   "metadata": {},
   "source": [
    "## 2. 유사도 행렬을 통해 유사 제품 추천하기\n",
    "코사인 유사도를 이용한 추천 시스템과 어떤 차이가 있을까요? 코사인 유사도를 사용한 시스템에서는 비슷하면서도 다양한 영화가 추천된 반면, 유클리디안 거리 유사도를 이용한 추천 시스템에서는 각 시리즈의 후속작이 추천되는 결과가 나왔습니다. 시리즈물과 같이 매우 유사한 것을 추천하기 위해서는 유클리디안 거리 유사도가 좀 더 유용하고, 좀 더 다양한 영화를 추천하기 위해서는 코사인 유사도가 더 적합할 것입니다."
   ]
  },
  {
   "cell_type": "markdown",
   "metadata": {},
   "source": [
    "#### 토이스토리와 유사한 영화"
   ]
  },
  {
   "cell_type": "code",
   "execution_count": 44,
   "metadata": {},
   "outputs": [
    {
     "data": {
      "text/plain": [
       "Toy Story 2                  0.005291\n",
       "Lion King, The               0.005055\n",
       "Aladdin                      0.005043\n",
       "Men in Black (a.k.a. MIB)    0.004964\n",
       "Bug's Life, A                0.004940\n",
       "Name: Toy Story, dtype: float64"
      ]
     },
     "execution_count": 44,
     "metadata": {},
     "output_type": "execute_result"
    }
   ],
   "source": [
    "(\n",
    "    euclidean_similarity_df\n",
    "    .loc[\"Toy Story\"]\n",
    "    .sort_values(ascending=False)\n",
    "    .iloc[:5]\n",
    ")"
   ]
  },
  {
   "cell_type": "markdown",
   "metadata": {},
   "source": [
    "#### 스타워즈와 유사한 영화"
   ]
  },
  {
   "cell_type": "code",
   "execution_count": 45,
   "metadata": {},
   "outputs": [
    {
     "data": {
      "text/plain": [
       "Star Wars: Episode V - The Empire Strikes Back                             0.006792\n",
       "Star Wars: Episode VI - Return of the Jedi                                 0.006664\n",
       "Raiders of the Lost Ark (Indiana Jones and the Raiders of the Lost Ark)    0.005241\n",
       "Indiana Jones and the Last Crusade                                         0.004977\n",
       "Terminator, The                                                            0.004952\n",
       "Name: Star Wars: Episode IV - A New Hope, dtype: float64"
      ]
     },
     "execution_count": 45,
     "metadata": {},
     "output_type": "execute_result"
    }
   ],
   "source": [
    "(\n",
    "    euclidean_similarity_df\n",
    "    .loc['Star Wars: Episode IV - A New Hope']\n",
    "    .sort_values(ascending=False)\n",
    "    .iloc[:5]\n",
    ")"
   ]
  },
  {
   "cell_type": "markdown",
   "metadata": {},
   "source": [
    "#### 쏘우와 유사한 영화"
   ]
  },
  {
   "cell_type": "code",
   "execution_count": 46,
   "metadata": {},
   "outputs": [
    {
     "data": {
      "text/plain": [
       "Saw II           0.014661\n",
       "Saw III          0.013602\n",
       "Gothika          0.013199\n",
       "Punisher, The    0.013102\n",
       "Saw IV           0.013065\n",
       "Name: Saw, dtype: float64"
      ]
     },
     "execution_count": 46,
     "metadata": {},
     "output_type": "execute_result"
    }
   ],
   "source": [
    "(\n",
    "    euclidean_similarity_df\n",
    "    .loc[\"Saw\"]\n",
    "    .sort_values(ascending=False)\n",
    "    .iloc[:5]\n",
    ")"
   ]
  },
  {
   "cell_type": "markdown",
   "metadata": {},
   "source": [
    "#### 링와 유사한 영화"
   ]
  },
  {
   "cell_type": "code",
   "execution_count": 47,
   "metadata": {},
   "outputs": [
    {
     "data": {
      "text/plain": [
       "Grudge, The                0.010429\n",
       "Identity                   0.010375\n",
       "Gothika                    0.010184\n",
       "Mr. Deeds                  0.010177\n",
       "Mothman Prophecies, The    0.010121\n",
       "Name: Ring, The, dtype: float64"
      ]
     },
     "execution_count": 47,
     "metadata": {},
     "output_type": "execute_result"
    }
   ],
   "source": [
    "(\n",
    "    euclidean_similarity_df\n",
    "    .loc['Ring, The']\n",
    "    .sort_values(ascending=False)\n",
    "    .iloc[:5]\n",
    ")"
   ]
  },
  {
   "cell_type": "markdown",
   "metadata": {},
   "source": [
    "#  \n",
    "\n",
    "---\n",
    "\n",
    "    Copyright(c) 2020 by Public AI. All rights reserved.\n",
    "    Writen by PAI, SeonYoul Choi ( best10@publicai.co.kr )  last updated on 2020/06/06\n",
    "\n",
    "\n",
    "---"
   ]
  }
 ],
 "metadata": {
  "celltoolbar": "Edit Metadata",
  "kernelspec": {
   "display_name": "Python 3",
   "language": "python",
   "name": "python3"
  },
  "language_info": {
   "codemirror_mode": {
    "name": "ipython",
    "version": 3
   },
   "file_extension": ".py",
   "mimetype": "text/x-python",
   "name": "python",
   "nbconvert_exporter": "python",
   "pygments_lexer": "ipython3",
   "version": "3.7.6"
  },
  "toc": {
   "base_numbering": 1,
   "nav_menu": {},
   "number_sections": false,
   "sideBar": true,
   "skip_h1_title": false,
   "title_cell": "Table of Contents",
   "title_sidebar": "Contents",
   "toc_cell": false,
   "toc_position": {
    "height": "calc(100% - 180px)",
    "left": "10px",
    "top": "150px",
    "width": "165px"
   },
   "toc_section_display": true,
   "toc_window_display": false
  },
  "varInspector": {
   "cols": {
    "lenName": 16,
    "lenType": 16,
    "lenVar": 40
   },
   "kernels_config": {
    "python": {
     "delete_cmd_postfix": "",
     "delete_cmd_prefix": "del ",
     "library": "var_list.py",
     "varRefreshCmd": "print(var_dic_list())"
    },
    "r": {
     "delete_cmd_postfix": ") ",
     "delete_cmd_prefix": "rm(",
     "library": "var_list.r",
     "varRefreshCmd": "cat(var_dic_list()) "
    }
   },
   "types_to_exclude": [
    "module",
    "function",
    "builtin_function_or_method",
    "instance",
    "_Feature"
   ],
   "window_display": false
  }
 },
 "nbformat": 4,
 "nbformat_minor": 4
}
