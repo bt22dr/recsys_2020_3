{
 "cells": [
  {
   "cell_type": "markdown",
   "metadata": {},
   "source": [
    "<i><b>Public-AI</b></i>\n",
    "#### week 2. 협업 필터링\n",
    "# Section 1. 협업 필터링의 기본 개념\n",
    "\n",
    "유저에게 아이템을 추천할 때 사용할 수 있는 정보에는 (1) 유저 정보 (2) 아이템 정보 (3) 유저와 아이템 사이의 상호작용 정보가 있을 것입니다. 하지만 실무에서 유저와 아이템의 정확한 정보를 풍부하게 확보하는 것은 쉬운 일이 아닙니다. 이러한 문제를 극복하고자 연구하고 개발된 것이 유저와 아이템 사이의 상호작용 데이터를 이용해 유저간 혹은 아이템 간의 유사도를 계산하여 추천하는 협업 필터링(Collaborative Filtering)입니다. 이번 주차에는 추천 시스템의 핵심 알고리즘 중 하나인 협업 필터링의 기본 개념을 배우고, 상호작용 데이터를 이용해 유저 간 유사도를 구하는 다양한 방법을 알아보겠습니다. \n",
    "\n",
    "### _Objective_ \n",
    "\n",
    "* [문제 정의 : 어떤 아이템을 추천할 것인가?] 추천시스템 분야의 핵심 문제를 정의하고, 콘텐츠 정보 기반 추천의 한계를 알아봅니다.\n",
    "* [기본 개념 : 협업 필터링과 유사도] 유저와 아이템 간의 상호작용 정보를 이용한 추천 시스템인 협업 필터링의 개념을 알아보고, 협업 필터링의 기본이 되는 유사도 알고리즘을 배웁니다.\n"
   ]
  },
  {
   "cell_type": "code",
   "execution_count": 1,
   "metadata": {},
   "outputs": [],
   "source": [
    "# 필요한 라이브러리 가져오기\n",
    "%matplotlib inline\n",
    "import os\n",
    "import numpy as np\n",
    "import pandas as pd\n",
    "\n",
    "from datetime import datetime\n",
    "\n",
    "from tensorflow.keras.utils import get_file\n",
    "from itertools import combinations\n",
    "\n",
    "import matplotlib.pyplot as plt"
   ]
  },
  {
   "cell_type": "markdown",
   "metadata": {},
   "source": [
    "## [ 실습 데이터 : MOVIE LENS 데이터 ]\n"
   ]
  },
  {
   "cell_type": "markdown",
   "metadata": {},
   "source": [
    "### 1. 데이터 불러오기"
   ]
  },
  {
   "cell_type": "code",
   "execution_count": 2,
   "metadata": {},
   "outputs": [],
   "source": [
    "ROOT_URL = \"https://pai-datasets.s3.ap-northeast-2.amazonaws.com/recommender_systems/movielens/datasets\"\n",
    "\n",
    "movie_path = get_file(\"movies.csv\", os.path.join(ROOT_URL, \"movies.csv\"))\n",
    "movie_df = pd.read_csv(movie_path)\n",
    "\n",
    "genre_path = get_file(\"genres.csv\", os.path.join(ROOT_URL, \"genres.csv\"))\n",
    "genre_df = pd.read_csv(genre_path)\n",
    "\n",
    "rating_path = get_file(\"ratings.csv\", os.path.join(ROOT_URL, \"ratings.csv\"))\n",
    "rating_df = pd.read_csv(rating_path)"
   ]
  },
  {
   "cell_type": "markdown",
   "metadata": {},
   "source": [
    "### `movie_df` 확인하기"
   ]
  },
  {
   "cell_type": "code",
   "execution_count": 3,
   "metadata": {},
   "outputs": [
    {
     "data": {
      "text/html": [
       "<div>\n",
       "<style scoped>\n",
       "    .dataframe tbody tr th:only-of-type {\n",
       "        vertical-align: middle;\n",
       "    }\n",
       "\n",
       "    .dataframe tbody tr th {\n",
       "        vertical-align: top;\n",
       "    }\n",
       "\n",
       "    .dataframe thead th {\n",
       "        text-align: right;\n",
       "    }\n",
       "</style>\n",
       "<table border=\"1\" class=\"dataframe\">\n",
       "  <thead>\n",
       "    <tr style=\"text-align: right;\">\n",
       "      <th></th>\n",
       "      <th>id</th>\n",
       "      <th>title</th>\n",
       "      <th>release_year</th>\n",
       "    </tr>\n",
       "  </thead>\n",
       "  <tbody>\n",
       "    <tr>\n",
       "      <th>18686</th>\n",
       "      <td>93022</td>\n",
       "      <td>Miss Nobody</td>\n",
       "      <td>2010</td>\n",
       "    </tr>\n",
       "    <tr>\n",
       "      <th>10625</th>\n",
       "      <td>41104</td>\n",
       "      <td>Evil of Frankenstein, The</td>\n",
       "      <td>1964</td>\n",
       "    </tr>\n",
       "    <tr>\n",
       "      <th>5263</th>\n",
       "      <td>5360</td>\n",
       "      <td>Survivors, The</td>\n",
       "      <td>1983</td>\n",
       "    </tr>\n",
       "    <tr>\n",
       "      <th>4835</th>\n",
       "      <td>4931</td>\n",
       "      <td>Don't Go in the House</td>\n",
       "      <td>1980</td>\n",
       "    </tr>\n",
       "    <tr>\n",
       "      <th>22288</th>\n",
       "      <td>107157</td>\n",
       "      <td>Boy and the Pirates, The</td>\n",
       "      <td>1960</td>\n",
       "    </tr>\n",
       "    <tr>\n",
       "      <th>27086</th>\n",
       "      <td>130328</td>\n",
       "      <td>A Bright Shining Lie</td>\n",
       "      <td>1998</td>\n",
       "    </tr>\n",
       "    <tr>\n",
       "      <th>25034</th>\n",
       "      <td>118200</td>\n",
       "      <td>Castles in the Sky</td>\n",
       "      <td>2014</td>\n",
       "    </tr>\n",
       "    <tr>\n",
       "      <th>24396</th>\n",
       "      <td>115617</td>\n",
       "      <td>Big Hero 6</td>\n",
       "      <td>2014</td>\n",
       "    </tr>\n",
       "    <tr>\n",
       "      <th>6548</th>\n",
       "      <td>6658</td>\n",
       "      <td>10</td>\n",
       "      <td>1979</td>\n",
       "    </tr>\n",
       "    <tr>\n",
       "      <th>21788</th>\n",
       "      <td>105323</td>\n",
       "      <td>Every Other Week (Varannan vecka)</td>\n",
       "      <td>2006</td>\n",
       "    </tr>\n",
       "  </tbody>\n",
       "</table>\n",
       "</div>"
      ],
      "text/plain": [
       "           id                              title  release_year\n",
       "18686   93022                        Miss Nobody          2010\n",
       "10625   41104          Evil of Frankenstein, The          1964\n",
       "5263     5360                     Survivors, The          1983\n",
       "4835     4931              Don't Go in the House          1980\n",
       "22288  107157           Boy and the Pirates, The          1960\n",
       "27086  130328               A Bright Shining Lie          1998\n",
       "25034  118200                 Castles in the Sky          2014\n",
       "24396  115617                         Big Hero 6          2014\n",
       "6548     6658                                 10          1979\n",
       "21788  105323  Every Other Week (Varannan vecka)          2006"
      ]
     },
     "execution_count": 3,
     "metadata": {},
     "output_type": "execute_result"
    }
   ],
   "source": [
    "movie_df.sample(n=10)"
   ]
  },
  {
   "cell_type": "markdown",
   "metadata": {},
   "source": [
    "### `genre_df` 확인하기"
   ]
  },
  {
   "cell_type": "code",
   "execution_count": 4,
   "metadata": {},
   "outputs": [
    {
     "data": {
      "text/html": [
       "<div>\n",
       "<style scoped>\n",
       "    .dataframe tbody tr th:only-of-type {\n",
       "        vertical-align: middle;\n",
       "    }\n",
       "\n",
       "    .dataframe tbody tr th {\n",
       "        vertical-align: top;\n",
       "    }\n",
       "\n",
       "    .dataframe thead th {\n",
       "        text-align: right;\n",
       "    }\n",
       "</style>\n",
       "<table border=\"1\" class=\"dataframe\">\n",
       "  <thead>\n",
       "    <tr style=\"text-align: right;\">\n",
       "      <th></th>\n",
       "      <th>movie_id</th>\n",
       "      <th>genre</th>\n",
       "    </tr>\n",
       "  </thead>\n",
       "  <tbody>\n",
       "    <tr>\n",
       "      <th>9987</th>\n",
       "      <td>5093</td>\n",
       "      <td>Thriller</td>\n",
       "    </tr>\n",
       "    <tr>\n",
       "      <th>35913</th>\n",
       "      <td>87507</td>\n",
       "      <td>Romance</td>\n",
       "    </tr>\n",
       "    <tr>\n",
       "      <th>45053</th>\n",
       "      <td>107083</td>\n",
       "      <td>Drama</td>\n",
       "    </tr>\n",
       "    <tr>\n",
       "      <th>26382</th>\n",
       "      <td>59641</td>\n",
       "      <td>Romance</td>\n",
       "    </tr>\n",
       "    <tr>\n",
       "      <th>35334</th>\n",
       "      <td>86298</td>\n",
       "      <td>Animation</td>\n",
       "    </tr>\n",
       "    <tr>\n",
       "      <th>21582</th>\n",
       "      <td>39449</td>\n",
       "      <td>Romance</td>\n",
       "    </tr>\n",
       "    <tr>\n",
       "      <th>24807</th>\n",
       "      <td>53853</td>\n",
       "      <td>Drama</td>\n",
       "    </tr>\n",
       "    <tr>\n",
       "      <th>11128</th>\n",
       "      <td>5690</td>\n",
       "      <td>Animation</td>\n",
       "    </tr>\n",
       "    <tr>\n",
       "      <th>5549</th>\n",
       "      <td>2797</td>\n",
       "      <td>Romance</td>\n",
       "    </tr>\n",
       "    <tr>\n",
       "      <th>5998</th>\n",
       "      <td>3013</td>\n",
       "      <td>Horror</td>\n",
       "    </tr>\n",
       "  </tbody>\n",
       "</table>\n",
       "</div>"
      ],
      "text/plain": [
       "       movie_id      genre\n",
       "9987       5093   Thriller\n",
       "35913     87507    Romance\n",
       "45053    107083      Drama\n",
       "26382     59641    Romance\n",
       "35334     86298  Animation\n",
       "21582     39449    Romance\n",
       "24807     53853      Drama\n",
       "11128      5690  Animation\n",
       "5549       2797    Romance\n",
       "5998       3013     Horror"
      ]
     },
     "execution_count": 4,
     "metadata": {},
     "output_type": "execute_result"
    }
   ],
   "source": [
    "genre_df.sample(n=10)"
   ]
  },
  {
   "cell_type": "markdown",
   "metadata": {},
   "source": [
    "### `rating_df` 확인하기"
   ]
  },
  {
   "cell_type": "code",
   "execution_count": 5,
   "metadata": {},
   "outputs": [
    {
     "data": {
      "text/html": [
       "<div>\n",
       "<style scoped>\n",
       "    .dataframe tbody tr th:only-of-type {\n",
       "        vertical-align: middle;\n",
       "    }\n",
       "\n",
       "    .dataframe tbody tr th {\n",
       "        vertical-align: top;\n",
       "    }\n",
       "\n",
       "    .dataframe thead th {\n",
       "        text-align: right;\n",
       "    }\n",
       "</style>\n",
       "<table border=\"1\" class=\"dataframe\">\n",
       "  <thead>\n",
       "    <tr style=\"text-align: right;\">\n",
       "      <th></th>\n",
       "      <th>user_id</th>\n",
       "      <th>movie_id</th>\n",
       "      <th>rating</th>\n",
       "      <th>rated_at</th>\n",
       "    </tr>\n",
       "  </thead>\n",
       "  <tbody>\n",
       "    <tr>\n",
       "      <th>13560353</th>\n",
       "      <td>93678</td>\n",
       "      <td>2360</td>\n",
       "      <td>4.5</td>\n",
       "      <td>1121260974</td>\n",
       "    </tr>\n",
       "    <tr>\n",
       "      <th>12560270</th>\n",
       "      <td>86765</td>\n",
       "      <td>7487</td>\n",
       "      <td>3.0</td>\n",
       "      <td>1217130279</td>\n",
       "    </tr>\n",
       "    <tr>\n",
       "      <th>1602320</th>\n",
       "      <td>10804</td>\n",
       "      <td>2471</td>\n",
       "      <td>4.0</td>\n",
       "      <td>1218815119</td>\n",
       "    </tr>\n",
       "    <tr>\n",
       "      <th>18618438</th>\n",
       "      <td>128884</td>\n",
       "      <td>1027</td>\n",
       "      <td>2.0</td>\n",
       "      <td>1219142022</td>\n",
       "    </tr>\n",
       "    <tr>\n",
       "      <th>17055428</th>\n",
       "      <td>117994</td>\n",
       "      <td>1148</td>\n",
       "      <td>5.0</td>\n",
       "      <td>939051885</td>\n",
       "    </tr>\n",
       "    <tr>\n",
       "      <th>15149906</th>\n",
       "      <td>104693</td>\n",
       "      <td>5294</td>\n",
       "      <td>4.0</td>\n",
       "      <td>1312160163</td>\n",
       "    </tr>\n",
       "    <tr>\n",
       "      <th>11689728</th>\n",
       "      <td>80721</td>\n",
       "      <td>611</td>\n",
       "      <td>2.0</td>\n",
       "      <td>967226269</td>\n",
       "    </tr>\n",
       "    <tr>\n",
       "      <th>2471501</th>\n",
       "      <td>16717</td>\n",
       "      <td>4816</td>\n",
       "      <td>3.5</td>\n",
       "      <td>1159910236</td>\n",
       "    </tr>\n",
       "    <tr>\n",
       "      <th>16376223</th>\n",
       "      <td>113370</td>\n",
       "      <td>345</td>\n",
       "      <td>5.0</td>\n",
       "      <td>845131510</td>\n",
       "    </tr>\n",
       "    <tr>\n",
       "      <th>17987606</th>\n",
       "      <td>124384</td>\n",
       "      <td>296</td>\n",
       "      <td>4.0</td>\n",
       "      <td>835978876</td>\n",
       "    </tr>\n",
       "  </tbody>\n",
       "</table>\n",
       "</div>"
      ],
      "text/plain": [
       "          user_id  movie_id  rating    rated_at\n",
       "13560353    93678      2360     4.5  1121260974\n",
       "12560270    86765      7487     3.0  1217130279\n",
       "1602320     10804      2471     4.0  1218815119\n",
       "18618438   128884      1027     2.0  1219142022\n",
       "17055428   117994      1148     5.0   939051885\n",
       "15149906   104693      5294     4.0  1312160163\n",
       "11689728    80721       611     2.0   967226269\n",
       "2471501     16717      4816     3.5  1159910236\n",
       "16376223   113370       345     5.0   845131510\n",
       "17987606   124384       296     4.0   835978876"
      ]
     },
     "execution_count": 5,
     "metadata": {},
     "output_type": "execute_result"
    }
   ],
   "source": [
    "rating_df.sample(n=10)"
   ]
  },
  {
   "cell_type": "markdown",
   "metadata": {},
   "source": [
    "# \\[ 문제 정의 : 어떤 아이템을 추천할 것인가?\\]\n",
    "---\n",
    "\n",
    "어떠한 유저가 \"One Day\"라는 영화를 재밌게 보고 나와서, \"One Day\"와 유사한 영화를 찾고 있다고 해봅시다."
   ]
  },
  {
   "cell_type": "markdown",
   "metadata": {},
   "source": [
    "## 1. 오늘의 주제\n",
    "\n",
    "> \"One Day\"를 재미있게 본 사람에게 어떤 영화를 추천할까? \n",
    "\n",
    "\n",
    "영화 One day는 앤 해서웨이가 주연으로 나오는 아름다운 로맨스 드라마 영화입니다. 영화를 보고난 후 어떤 고객이 이와 비슷하게 여운이 깊게 남는 영화를 찾고 있다고 합시다. 이 고객에게는 어떤 영화를 추천해주는 것이 좋을까요? \n",
    "\n",
    "<img src=\"https://img1.daumcdn.net/thumb/R800x0/?scode=mtistory2&fname=https%3A%2F%2Ft1.daumcdn.net%2Fcfile%2Ftistory%2F2727B44558972A7E04\" width=\"150\">\n"
   ]
  },
  {
   "cell_type": "markdown",
   "metadata": {},
   "source": [
    "## 2. 첫번째 해결방법, \"장르\"를 기준으로 추천하기 : 콘텐츠 정보 기반 추천의 한계\n",
    "\n",
    "고객이 선호하는 아이템(혹은 콘텐츠)과 유사한 아이템을 찾는 가장 간단한 방법은 아이템의 정보를 이용하는 것입니다. 영화로 치면 영화의 장르 정보를 이용하여 이를 기준으로 추천할 영화를 찾는 것이죠. 동일한 장르를 가지는 영화를 찾아보고, 이를 기준으로 영화를 추천해보겠습니다."
   ]
  },
  {
   "cell_type": "markdown",
   "metadata": {},
   "source": [
    "### (1) `one day`에 대한 장르 정보 가져오기\n",
    "영화의 장르 정보는 `genres` 에서 확인할 수 있는데, `genres`는 영화 제목으로 조회할 수는 없고 `movie_id`를 이용해 조회할 수 있습니다. `movies` 테이블에서 아이디 값을 확인한 후, 이를 이용해 조회해봅시다."
   ]
  },
  {
   "cell_type": "code",
   "execution_count": 6,
   "metadata": {},
   "outputs": [
    {
     "data": {
      "text/html": [
       "<div>\n",
       "<style scoped>\n",
       "    .dataframe tbody tr th:only-of-type {\n",
       "        vertical-align: middle;\n",
       "    }\n",
       "\n",
       "    .dataframe tbody tr th {\n",
       "        vertical-align: top;\n",
       "    }\n",
       "\n",
       "    .dataframe thead th {\n",
       "        text-align: right;\n",
       "    }\n",
       "</style>\n",
       "<table border=\"1\" class=\"dataframe\">\n",
       "  <thead>\n",
       "    <tr style=\"text-align: right;\">\n",
       "      <th></th>\n",
       "      <th>movie_id</th>\n",
       "      <th>genre</th>\n",
       "    </tr>\n",
       "  </thead>\n",
       "  <tbody>\n",
       "    <tr>\n",
       "      <th>36207</th>\n",
       "      <td>88179</td>\n",
       "      <td>Drama</td>\n",
       "    </tr>\n",
       "    <tr>\n",
       "      <th>36208</th>\n",
       "      <td>88179</td>\n",
       "      <td>Romance</td>\n",
       "    </tr>\n",
       "  </tbody>\n",
       "</table>\n",
       "</div>"
      ],
      "text/plain": [
       "       movie_id    genre\n",
       "36207     88179    Drama\n",
       "36208     88179  Romance"
      ]
     },
     "execution_count": 6,
     "metadata": {},
     "output_type": "execute_result"
    }
   ],
   "source": [
    "# 위 영화'One Day'에 대한 정보 가져오기\n",
    "oneday_movie_df = movie_df[movie_df.title == 'One Day']\n",
    "\n",
    "# 'One Day' 영화에 대한 Genre 정보 가져오기\n",
    "oneday_id = oneday_movie_df.id.iloc[0]\n",
    "genre_df[genre_df.movie_id == oneday_id]"
   ]
  },
  {
   "cell_type": "markdown",
   "metadata": {},
   "source": [
    "### (2) 영화 별 장르 집합 구성하기\n",
    "\n",
    "하나의 영화에는 다양한 장르가 결합되어 있습니다. 각 영화별로 어떠한 장르 속성이 존재하는지를 파악하기 위해, 영화 정보와 장르 정보를 모두 가져와 분석하도록 하겠습니다."
   ]
  },
  {
   "cell_type": "code",
   "execution_count": 7,
   "metadata": {},
   "outputs": [
    {
     "data": {
      "text/plain": [
       "movie_id\n",
       "1    {Animation, Fantasy, Children, Comedy, Adventure}\n",
       "2                       {Children, Fantasy, Adventure}\n",
       "3                                    {Romance, Comedy}\n",
       "4                             {Drama, Romance, Comedy}\n",
       "5                                             {Comedy}\n",
       "Name: genre, dtype: object"
      ]
     },
     "execution_count": 7,
     "metadata": {},
     "output_type": "execute_result"
    }
   ],
   "source": [
    "# 각 영화별로 장르를 집합으로 묶어주세요\n",
    "genreset_per_movie = (\n",
    "    genre_df\n",
    "    .groupby('movie_id')\n",
    "    ['genre']\n",
    "    .apply(set))\n",
    "\n",
    "genreset_per_movie.head(5)"
   ]
  },
  {
   "cell_type": "markdown",
   "metadata": {},
   "source": [
    "#### Oneday 영화의 장르 구성 가져오기"
   ]
  },
  {
   "cell_type": "code",
   "execution_count": 8,
   "metadata": {},
   "outputs": [
    {
     "data": {
      "text/plain": [
       "{'Drama', 'Romance'}"
      ]
     },
     "execution_count": 8,
     "metadata": {},
     "output_type": "execute_result"
    }
   ],
   "source": [
    "oneday_id = 88179\n",
    "oneday_genreset = genreset_per_movie[oneday_id]\n",
    "oneday_genreset"
   ]
  },
  {
   "cell_type": "markdown",
   "metadata": {},
   "source": [
    "#### OneDay와 동일한 장르 구성을 가지고 있는 영화 가져오기"
   ]
  },
  {
   "cell_type": "code",
   "execution_count": 9,
   "metadata": {},
   "outputs": [
    {
     "data": {
      "text/plain": [
       "Int64Index([    17,     25,     28,     35,     46,     49,     74,     83,\n",
       "                85,    105,\n",
       "            ...\n",
       "            128688, 129032, 129788, 129841, 129857, 129947, 130388, 130396,\n",
       "            130746, 131162],\n",
       "           dtype='int64', name='movie_id', length=1075)"
      ]
     },
     "execution_count": 9,
     "metadata": {},
     "output_type": "execute_result"
    }
   ],
   "source": [
    "same_genre_movie_ids = (\n",
    "    genreset_per_movie\n",
    "    [genreset_per_movie == oneday_genreset]\n",
    "    .index)\n",
    "\n",
    "same_genre_movie_ids"
   ]
  },
  {
   "cell_type": "code",
   "execution_count": 10,
   "metadata": {},
   "outputs": [
    {
     "data": {
      "text/html": [
       "<div>\n",
       "<style scoped>\n",
       "    .dataframe tbody tr th:only-of-type {\n",
       "        vertical-align: middle;\n",
       "    }\n",
       "\n",
       "    .dataframe tbody tr th {\n",
       "        vertical-align: top;\n",
       "    }\n",
       "\n",
       "    .dataframe thead th {\n",
       "        text-align: right;\n",
       "    }\n",
       "</style>\n",
       "<table border=\"1\" class=\"dataframe\">\n",
       "  <thead>\n",
       "    <tr style=\"text-align: right;\">\n",
       "      <th></th>\n",
       "      <th>id</th>\n",
       "      <th>title</th>\n",
       "      <th>release_year</th>\n",
       "    </tr>\n",
       "  </thead>\n",
       "  <tbody>\n",
       "    <tr>\n",
       "      <th>7125</th>\n",
       "      <td>7237</td>\n",
       "      <td>Last Tycoon, The</td>\n",
       "      <td>1976</td>\n",
       "    </tr>\n",
       "    <tr>\n",
       "      <th>14144</th>\n",
       "      <td>70976</td>\n",
       "      <td>Romance of Astrea and Celadon, The (Les amours...</td>\n",
       "      <td>2007</td>\n",
       "    </tr>\n",
       "    <tr>\n",
       "      <th>12587</th>\n",
       "      <td>59018</td>\n",
       "      <td>Visitor, The</td>\n",
       "      <td>2007</td>\n",
       "    </tr>\n",
       "    <tr>\n",
       "      <th>4046</th>\n",
       "      <td>4140</td>\n",
       "      <td>North Shore</td>\n",
       "      <td>1987</td>\n",
       "    </tr>\n",
       "    <tr>\n",
       "      <th>9365</th>\n",
       "      <td>27515</td>\n",
       "      <td>Balzac and the Little Chinese Seamstress (Xiao...</td>\n",
       "      <td>2002</td>\n",
       "    </tr>\n",
       "  </tbody>\n",
       "</table>\n",
       "</div>"
      ],
      "text/plain": [
       "          id                                              title  release_year\n",
       "7125    7237                                   Last Tycoon, The          1976\n",
       "14144  70976  Romance of Astrea and Celadon, The (Les amours...          2007\n",
       "12587  59018                                       Visitor, The          2007\n",
       "4046    4140                                        North Shore          1987\n",
       "9365   27515  Balzac and the Little Chinese Seamstress (Xiao...          2002"
      ]
     },
     "execution_count": 10,
     "metadata": {},
     "output_type": "execute_result"
    }
   ],
   "source": [
    "movie_df[movie_df.id.isin(same_genre_movie_ids)].sample(5)"
   ]
  },
  {
   "cell_type": "markdown",
   "metadata": {},
   "source": [
    "### (3) 콘텐츠(장르) 기반 추천의 한계 \n",
    "\n",
    "이 영화 중에서는 One Day와 같이 한 커플의 만남에서 이별까지 다루는 서정적인 작품도 있을 것이고, 좀 더 치정극에 가까운 영화도 있을 겁니다. 같은 장르로 분류되기는 하지만, 위의 1075개 중에서도 One Day를 본 사람이 좋아할 만한 작품은 따로 존재할 것입니다. 또한 위 리스트에는 없지만, One Day를 좋아했던 사람들이라면 **이터널 선샤인**이라는 영화도 충분히 추천할만합니다. 테이블을 확인해보면 이터널 선샤인은 {Drama, Romance, Sci-Fi} 장르를 가지고 있어서 위의 방식으로 추천 영화 리스트를 뽑았을 땐 나오지 않았습니다.\n",
    "\n",
    "\n",
    "\n",
    "이렇듯 콘텐츠 정보를 기반한 추천에서 콘텐츠 정보가 충분하지 않다면 위와 같이 적절한 추천을 수행하기가 어려워집니다. 콘텐츠 정보를 좀 더 모으는 방법, 예를 들면 장르를 세분화 한다던지, 감독 배우 등의 정보도 활용하는 방향도 있지만 이러한 작업들은 정보를 수집하고 정제하는 데 비용이 크게 듭니다. 이렇게 콘텐츠 정보를 활용하여 추천하는 방식에서 벗어나, 고객들의 상호작용 정보를 바탕으로 영화를 추천하는 방식으로 문제를 해결해보고자 합니다."
   ]
  },
  {
   "cell_type": "code",
   "execution_count": 11,
   "metadata": {},
   "outputs": [
    {
     "data": {
      "text/html": [
       "<div>\n",
       "<style scoped>\n",
       "    .dataframe tbody tr th:only-of-type {\n",
       "        vertical-align: middle;\n",
       "    }\n",
       "\n",
       "    .dataframe tbody tr th {\n",
       "        vertical-align: top;\n",
       "    }\n",
       "\n",
       "    .dataframe thead th {\n",
       "        text-align: right;\n",
       "    }\n",
       "</style>\n",
       "<table border=\"1\" class=\"dataframe\">\n",
       "  <thead>\n",
       "    <tr style=\"text-align: right;\">\n",
       "      <th></th>\n",
       "      <th>id</th>\n",
       "      <th>title</th>\n",
       "      <th>release_year</th>\n",
       "    </tr>\n",
       "  </thead>\n",
       "  <tbody>\n",
       "    <tr>\n",
       "      <th>7249</th>\n",
       "      <td>7361</td>\n",
       "      <td>Eternal Sunshine of the Spotless Mind</td>\n",
       "      <td>2004</td>\n",
       "    </tr>\n",
       "  </tbody>\n",
       "</table>\n",
       "</div>"
      ],
      "text/plain": [
       "        id                                  title  release_year\n",
       "7249  7361  Eternal Sunshine of the Spotless Mind          2004"
      ]
     },
     "metadata": {},
     "output_type": "display_data"
    },
    {
     "data": {
      "text/html": [
       "<div>\n",
       "<style scoped>\n",
       "    .dataframe tbody tr th:only-of-type {\n",
       "        vertical-align: middle;\n",
       "    }\n",
       "\n",
       "    .dataframe tbody tr th {\n",
       "        vertical-align: top;\n",
       "    }\n",
       "\n",
       "    .dataframe thead th {\n",
       "        text-align: right;\n",
       "    }\n",
       "</style>\n",
       "<table border=\"1\" class=\"dataframe\">\n",
       "  <thead>\n",
       "    <tr style=\"text-align: right;\">\n",
       "      <th></th>\n",
       "      <th>movie_id</th>\n",
       "      <th>genre</th>\n",
       "    </tr>\n",
       "  </thead>\n",
       "  <tbody>\n",
       "    <tr>\n",
       "      <th>14445</th>\n",
       "      <td>7361</td>\n",
       "      <td>Drama</td>\n",
       "    </tr>\n",
       "    <tr>\n",
       "      <th>14446</th>\n",
       "      <td>7361</td>\n",
       "      <td>Romance</td>\n",
       "    </tr>\n",
       "    <tr>\n",
       "      <th>14447</th>\n",
       "      <td>7361</td>\n",
       "      <td>Sci-Fi</td>\n",
       "    </tr>\n",
       "  </tbody>\n",
       "</table>\n",
       "</div>"
      ],
      "text/plain": [
       "       movie_id    genre\n",
       "14445      7361    Drama\n",
       "14446      7361  Romance\n",
       "14447      7361   Sci-Fi"
      ]
     },
     "execution_count": 11,
     "metadata": {},
     "output_type": "execute_result"
    }
   ],
   "source": [
    "eternal_movie_id = 7361\n",
    "\n",
    "display(movie_df[movie_df.title == 'Eternal Sunshine of the Spotless Mind'])\n",
    "genre_df[genre_df.movie_id==eternal_movie_id]"
   ]
  },
  {
   "cell_type": "markdown",
   "metadata": {},
   "source": [
    "# \\[ 기본 개념 : 협업 필터링과 유사도\\]\n",
    "----\n",
    "\n",
    "앞서 다룬 장르를 활용한 추천은 영화의 콘텐츠 정보를 활용하여 추천하는 일종의 콘텐츠 기반 필터링(Content-based Filtering)에 속하는 알고리즘입니다. 이와 다르게 협업 필터링(Collaborative Filtering)은 유저와 제품 사이의 상호작용 데이터를 바탕으로 유저에게 이전에 좋아했던 제품과 **유사한** 제품을 추천하거나(Item-Baed Collaborative Filtering), 유저의 취향과 **유사한** 취향을 가진 고객이 좋아한 제품을 추천하는 방식(User-Based Collaborative Filtering)을 말합니다. 협업 필터링의 핵심은 이러한 아이템 혹은 유저간의 \"유사함\"을 어떻게 정의하는가에 있습니다. 지금 시간에는 아이템 혹은 유저 간의 \"유사함\"을 어떻게 정의하는지 배우도록 하겠습니다."
   ]
  },
  {
   "cell_type": "markdown",
   "metadata": {},
   "source": [
    "## 1. Content-based Filtering과 Collaborative-Filtering\n",
    "\n",
    "<img src=\"attachment:image.png\" width=\"500\">\n",
    "\n",
    "유저 정보와 영화 정보와 같이, 속성 정보를 바탕으로 추천하는 알고리즘을 통틀어 Content-Based Filtering이라 하고, 유저와 영화 간의 상호작용, 예를 들어 구매/ 페이지 뷰 / 평점 등의 행동들을 바탕으로 추천하는 알고리즘을 Collaborative Filtering이라 합니다. 위에서 다룬 \"장르 정보에 기반한 추천\"은 대표적으로 Content-Based Filtering에 속합니다. 아이템(혹은 영화)가 아닌 유저의 정보를 바탕으로 Content-Based Filtering 기법으로 추천을 하다면, 유저의 성별이나 지역 정보를 이용할 수 있을 것입니다. <br>\n",
    "\n",
    "Content-Based Filtering을 적용하기 위해서는 유저 정보와 영화 정보를 수집하고, 정제해야 하는 어려움이 있습니다. 매년 엄청난 수의 영화가 상영되는데, 각 영화의 특성을 일정한 기준으로 일관되게 입력하는 것은 어려운 일입니다. 유저의 정보 역시 개인정보 보호 정책에 따라 쉽게 수집할 수 없습니다. 이처럼 유저 정보와 아이템 정보를 수집하는 어려움 때문에 이를 대신하여 시스템에 축적되는 유저와 아이템 사이의 상호작용 데이터를 이용해, 유저의 취향과 아이템의 특성을 도출하고자 하는 방향으로 많은 연구 개발이 이루어졌습니다. Collaborative Filtering 알고리즘은 이를 대표하는 방법론입니다."
   ]
  },
  {
   "cell_type": "markdown",
   "metadata": {},
   "source": [
    "## 2. 영화 데이터 가져오기\n",
    "\n",
    "Collaborative Filtering에서 핵심이 되는 유사도 개념을 배워보기 위해 5개의 영화를 우선 선정했습니다. \n",
    "\n",
    "|  `movie_id` | 영화이름 |\n",
    "| ---    | --- |\n",
    "| 8957   | 쏘우     |\n",
    "| 2232   | 큐브     |\n",
    "| 6323   | 아이덴티티 |\n",
    "| 8638   | 비포선셋  |\n",
    "| 215    | 비포선라이즈 |\n",
    "\n",
    "\n",
    "비포선셋과 비포선라이즈는 One Day와 동일한 \"Romance\" & \"Drama\"이고, 그 외 쏘우 큐브 아이덴티티는 그와 다른 공포영화입니다."
   ]
  },
  {
   "cell_type": "code",
   "execution_count": 12,
   "metadata": {},
   "outputs": [],
   "source": [
    "target_movies = {\n",
    "    8957: \"Saw\", \n",
    "    2232: \"Cube\", \n",
    "    6323: \"Identity\", \n",
    "    8638: \"Before Sunset\", \n",
    "    215: \"Before Sunrise\"}"
   ]
  },
  {
   "cell_type": "markdown",
   "metadata": {},
   "source": [
    "#### 해당 영화에 대한 정보 가져오기"
   ]
  },
  {
   "cell_type": "code",
   "execution_count": 13,
   "metadata": {},
   "outputs": [
    {
     "data": {
      "text/html": [
       "<div>\n",
       "<style scoped>\n",
       "    .dataframe tbody tr th:only-of-type {\n",
       "        vertical-align: middle;\n",
       "    }\n",
       "\n",
       "    .dataframe tbody tr th {\n",
       "        vertical-align: top;\n",
       "    }\n",
       "\n",
       "    .dataframe thead th {\n",
       "        text-align: right;\n",
       "    }\n",
       "</style>\n",
       "<table border=\"1\" class=\"dataframe\">\n",
       "  <thead>\n",
       "    <tr style=\"text-align: right;\">\n",
       "      <th></th>\n",
       "      <th>id</th>\n",
       "      <th>title</th>\n",
       "      <th>release_year</th>\n",
       "      <th>movie_id</th>\n",
       "      <th>genre</th>\n",
       "    </tr>\n",
       "  </thead>\n",
       "  <tbody>\n",
       "    <tr>\n",
       "      <th>0</th>\n",
       "      <td>215</td>\n",
       "      <td>Before Sunrise</td>\n",
       "      <td>1995</td>\n",
       "      <td>215</td>\n",
       "      <td>Drama</td>\n",
       "    </tr>\n",
       "    <tr>\n",
       "      <th>1</th>\n",
       "      <td>215</td>\n",
       "      <td>Before Sunrise</td>\n",
       "      <td>1995</td>\n",
       "      <td>215</td>\n",
       "      <td>Romance</td>\n",
       "    </tr>\n",
       "    <tr>\n",
       "      <th>2</th>\n",
       "      <td>2232</td>\n",
       "      <td>Cube</td>\n",
       "      <td>1997</td>\n",
       "      <td>2232</td>\n",
       "      <td>Horror</td>\n",
       "    </tr>\n",
       "    <tr>\n",
       "      <th>3</th>\n",
       "      <td>2232</td>\n",
       "      <td>Cube</td>\n",
       "      <td>1997</td>\n",
       "      <td>2232</td>\n",
       "      <td>Mystery</td>\n",
       "    </tr>\n",
       "    <tr>\n",
       "      <th>4</th>\n",
       "      <td>2232</td>\n",
       "      <td>Cube</td>\n",
       "      <td>1997</td>\n",
       "      <td>2232</td>\n",
       "      <td>Sci-Fi</td>\n",
       "    </tr>\n",
       "    <tr>\n",
       "      <th>5</th>\n",
       "      <td>2232</td>\n",
       "      <td>Cube</td>\n",
       "      <td>1997</td>\n",
       "      <td>2232</td>\n",
       "      <td>Thriller</td>\n",
       "    </tr>\n",
       "    <tr>\n",
       "      <th>6</th>\n",
       "      <td>6323</td>\n",
       "      <td>Identity</td>\n",
       "      <td>2003</td>\n",
       "      <td>6323</td>\n",
       "      <td>Crime</td>\n",
       "    </tr>\n",
       "    <tr>\n",
       "      <th>7</th>\n",
       "      <td>6323</td>\n",
       "      <td>Identity</td>\n",
       "      <td>2003</td>\n",
       "      <td>6323</td>\n",
       "      <td>Horror</td>\n",
       "    </tr>\n",
       "    <tr>\n",
       "      <th>8</th>\n",
       "      <td>6323</td>\n",
       "      <td>Identity</td>\n",
       "      <td>2003</td>\n",
       "      <td>6323</td>\n",
       "      <td>Mystery</td>\n",
       "    </tr>\n",
       "    <tr>\n",
       "      <th>9</th>\n",
       "      <td>6323</td>\n",
       "      <td>Identity</td>\n",
       "      <td>2003</td>\n",
       "      <td>6323</td>\n",
       "      <td>Thriller</td>\n",
       "    </tr>\n",
       "    <tr>\n",
       "      <th>10</th>\n",
       "      <td>8638</td>\n",
       "      <td>Before Sunset</td>\n",
       "      <td>2004</td>\n",
       "      <td>8638</td>\n",
       "      <td>Drama</td>\n",
       "    </tr>\n",
       "    <tr>\n",
       "      <th>11</th>\n",
       "      <td>8638</td>\n",
       "      <td>Before Sunset</td>\n",
       "      <td>2004</td>\n",
       "      <td>8638</td>\n",
       "      <td>Romance</td>\n",
       "    </tr>\n",
       "    <tr>\n",
       "      <th>12</th>\n",
       "      <td>8957</td>\n",
       "      <td>Saw</td>\n",
       "      <td>2004</td>\n",
       "      <td>8957</td>\n",
       "      <td>Horror</td>\n",
       "    </tr>\n",
       "    <tr>\n",
       "      <th>13</th>\n",
       "      <td>8957</td>\n",
       "      <td>Saw</td>\n",
       "      <td>2004</td>\n",
       "      <td>8957</td>\n",
       "      <td>Mystery</td>\n",
       "    </tr>\n",
       "    <tr>\n",
       "      <th>14</th>\n",
       "      <td>8957</td>\n",
       "      <td>Saw</td>\n",
       "      <td>2004</td>\n",
       "      <td>8957</td>\n",
       "      <td>Thriller</td>\n",
       "    </tr>\n",
       "  </tbody>\n",
       "</table>\n",
       "</div>"
      ],
      "text/plain": [
       "      id           title  release_year  movie_id     genre\n",
       "0    215  Before Sunrise          1995       215     Drama\n",
       "1    215  Before Sunrise          1995       215   Romance\n",
       "2   2232            Cube          1997      2232    Horror\n",
       "3   2232            Cube          1997      2232   Mystery\n",
       "4   2232            Cube          1997      2232    Sci-Fi\n",
       "5   2232            Cube          1997      2232  Thriller\n",
       "6   6323        Identity          2003      6323     Crime\n",
       "7   6323        Identity          2003      6323    Horror\n",
       "8   6323        Identity          2003      6323   Mystery\n",
       "9   6323        Identity          2003      6323  Thriller\n",
       "10  8638   Before Sunset          2004      8638     Drama\n",
       "11  8638   Before Sunset          2004      8638   Romance\n",
       "12  8957             Saw          2004      8957    Horror\n",
       "13  8957             Saw          2004      8957   Mystery\n",
       "14  8957             Saw          2004      8957  Thriller"
      ]
     },
     "execution_count": 13,
     "metadata": {},
     "output_type": "execute_result"
    }
   ],
   "source": [
    "# 위 영화들에 대한 정보 가져오기\n",
    "target_movie_df = movie_df[movie_df.id.isin(target_movies)]\n",
    "target_genre_df = genre_df[genre_df.movie_id.isin(target_movies)]\n",
    "\n",
    "pd.merge(target_movie_df, target_genre_df, left_on='id', right_on='movie_id')"
   ]
  },
  {
   "cell_type": "markdown",
   "metadata": {},
   "source": [
    "비포 선라이즈와 비포선셋은 \"Drama\",\"Romance\" 장르에 속합니다. 반면 큐브, 아이덴티티, 쏘우 작품은 \"Horror\",\"Mystery\",\"Thriller\"등의 장르로 분류됩니다. 위 영화들에 대한 선호도 정보, 즉 리뷰에 남겨진 평점 정보를 가져오도록 하겠습니다."
   ]
  },
  {
   "cell_type": "code",
   "execution_count": 14,
   "metadata": {},
   "outputs": [
    {
     "name": "stderr",
     "output_type": "stream",
     "text": [
      "/Users/jy.song/anaconda3/envs/rc/lib/python3.7/site-packages/pandas/core/indexing.py:1596: SettingWithCopyWarning: \n",
      "A value is trying to be set on a copy of a slice from a DataFrame.\n",
      "Try using .loc[row_indexer,col_indexer] = value instead\n",
      "\n",
      "See the caveats in the documentation: https://pandas.pydata.org/pandas-docs/stable/user_guide/indexing.html#returning-a-view-versus-a-copy\n",
      "  self.obj[key] = _infer_fill_value(value)\n",
      "/Users/jy.song/anaconda3/envs/rc/lib/python3.7/site-packages/pandas/core/indexing.py:1745: SettingWithCopyWarning: \n",
      "A value is trying to be set on a copy of a slice from a DataFrame.\n",
      "Try using .loc[row_indexer,col_indexer] = value instead\n",
      "\n",
      "See the caveats in the documentation: https://pandas.pydata.org/pandas-docs/stable/user_guide/indexing.html#returning-a-view-versus-a-copy\n",
      "  isetter(ilocs[0], value)\n"
     ]
    },
    {
     "data": {
      "text/html": [
       "<div>\n",
       "<style scoped>\n",
       "    .dataframe tbody tr th:only-of-type {\n",
       "        vertical-align: middle;\n",
       "    }\n",
       "\n",
       "    .dataframe tbody tr th {\n",
       "        vertical-align: top;\n",
       "    }\n",
       "\n",
       "    .dataframe thead th {\n",
       "        text-align: right;\n",
       "    }\n",
       "</style>\n",
       "<table border=\"1\" class=\"dataframe\">\n",
       "  <thead>\n",
       "    <tr style=\"text-align: right;\">\n",
       "      <th></th>\n",
       "      <th>user_id</th>\n",
       "      <th>movie_id</th>\n",
       "      <th>rating</th>\n",
       "      <th>rated_at</th>\n",
       "      <th>title</th>\n",
       "    </tr>\n",
       "  </thead>\n",
       "  <tbody>\n",
       "    <tr>\n",
       "      <th>3991879</th>\n",
       "      <td>27166</td>\n",
       "      <td>6323</td>\n",
       "      <td>3.5</td>\n",
       "      <td>1275503018</td>\n",
       "      <td>Identity</td>\n",
       "    </tr>\n",
       "    <tr>\n",
       "      <th>7566071</th>\n",
       "      <td>52140</td>\n",
       "      <td>2232</td>\n",
       "      <td>2.0</td>\n",
       "      <td>1076537187</td>\n",
       "      <td>Cube</td>\n",
       "    </tr>\n",
       "    <tr>\n",
       "      <th>12332120</th>\n",
       "      <td>85190</td>\n",
       "      <td>215</td>\n",
       "      <td>3.5</td>\n",
       "      <td>1225580806</td>\n",
       "      <td>Before Sunrise</td>\n",
       "    </tr>\n",
       "    <tr>\n",
       "      <th>112260</th>\n",
       "      <td>768</td>\n",
       "      <td>8957</td>\n",
       "      <td>4.0</td>\n",
       "      <td>1173562772</td>\n",
       "      <td>Saw</td>\n",
       "    </tr>\n",
       "    <tr>\n",
       "      <th>14709757</th>\n",
       "      <td>101630</td>\n",
       "      <td>8638</td>\n",
       "      <td>3.0</td>\n",
       "      <td>1306536644</td>\n",
       "      <td>Before Sunset</td>\n",
       "    </tr>\n",
       "  </tbody>\n",
       "</table>\n",
       "</div>"
      ],
      "text/plain": [
       "          user_id  movie_id  rating    rated_at           title\n",
       "3991879     27166      6323     3.5  1275503018        Identity\n",
       "7566071     52140      2232     2.0  1076537187            Cube\n",
       "12332120    85190       215     3.5  1225580806  Before Sunrise\n",
       "112260        768      8957     4.0  1173562772             Saw\n",
       "14709757   101630      8638     3.0  1306536644   Before Sunset"
      ]
     },
     "execution_count": 14,
     "metadata": {},
     "output_type": "execute_result"
    }
   ],
   "source": [
    "target_rating_df = rating_df[rating_df.movie_id.isin(target_movies)]\n",
    "\n",
    "# rating_df의 movie_id를 알아볼 수 있는 영화제목으로 변경\n",
    "target_rating_df.loc[:,\"title\"] = target_rating_df.movie_id.map(target_movies)\n",
    "\n",
    "target_rating_df.sample(5)"
   ]
  },
  {
   "cell_type": "markdown",
   "metadata": {},
   "source": [
    "Collaborative Filtering은 \n",
    "\n",
    "> \"A\"를 선호한 사람은 \"B\"도 선호하더라\n",
    "\n",
    "식의 관계를 파악해야 합니다. 우선 우리는 해당영화를 모두 보고 평점을 내린 사람들의 정보를 가져오도록 하겠습니다."
   ]
  },
  {
   "cell_type": "code",
   "execution_count": 15,
   "metadata": {},
   "outputs": [
    {
     "data": {
      "text/html": [
       "<div>\n",
       "<style scoped>\n",
       "    .dataframe tbody tr th:only-of-type {\n",
       "        vertical-align: middle;\n",
       "    }\n",
       "\n",
       "    .dataframe tbody tr th {\n",
       "        vertical-align: top;\n",
       "    }\n",
       "\n",
       "    .dataframe thead th {\n",
       "        text-align: right;\n",
       "    }\n",
       "</style>\n",
       "<table border=\"1\" class=\"dataframe\">\n",
       "  <thead>\n",
       "    <tr style=\"text-align: right;\">\n",
       "      <th></th>\n",
       "      <th>user_id</th>\n",
       "      <th>movie_id</th>\n",
       "      <th>rating</th>\n",
       "      <th>rated_at</th>\n",
       "      <th>title</th>\n",
       "    </tr>\n",
       "  </thead>\n",
       "  <tbody>\n",
       "    <tr>\n",
       "      <th>12859147</th>\n",
       "      <td>88820</td>\n",
       "      <td>8957</td>\n",
       "      <td>3.5</td>\n",
       "      <td>1136393254</td>\n",
       "      <td>Saw</td>\n",
       "    </tr>\n",
       "    <tr>\n",
       "      <th>11187357</th>\n",
       "      <td>77247</td>\n",
       "      <td>8957</td>\n",
       "      <td>4.0</td>\n",
       "      <td>1122615026</td>\n",
       "      <td>Saw</td>\n",
       "    </tr>\n",
       "    <tr>\n",
       "      <th>391595</th>\n",
       "      <td>2669</td>\n",
       "      <td>6323</td>\n",
       "      <td>4.0</td>\n",
       "      <td>1074180237</td>\n",
       "      <td>Identity</td>\n",
       "    </tr>\n",
       "    <tr>\n",
       "      <th>5128301</th>\n",
       "      <td>35128</td>\n",
       "      <td>215</td>\n",
       "      <td>4.5</td>\n",
       "      <td>1100815040</td>\n",
       "      <td>Before Sunrise</td>\n",
       "    </tr>\n",
       "    <tr>\n",
       "      <th>6886960</th>\n",
       "      <td>47439</td>\n",
       "      <td>2232</td>\n",
       "      <td>4.0</td>\n",
       "      <td>1296776134</td>\n",
       "      <td>Cube</td>\n",
       "    </tr>\n",
       "  </tbody>\n",
       "</table>\n",
       "</div>"
      ],
      "text/plain": [
       "          user_id  movie_id  rating    rated_at           title\n",
       "12859147    88820      8957     3.5  1136393254             Saw\n",
       "11187357    77247      8957     4.0  1122615026             Saw\n",
       "391595       2669      6323     4.0  1074180237        Identity\n",
       "5128301     35128       215     4.5  1100815040  Before Sunrise\n",
       "6886960     47439      2232     4.0  1296776134            Cube"
      ]
     },
     "execution_count": 15,
     "metadata": {},
     "output_type": "execute_result"
    }
   ],
   "source": [
    "# 유저 별 몇 개의 영화를 봤는지를 셈\n",
    "counts_per_user = (\n",
    "    target_rating_df\n",
    "    .groupby('user_id')\n",
    "    ['movie_id']\n",
    "    .apply(lambda x : len(x))\n",
    ")\n",
    "\n",
    "all_seen_user_ids = (\n",
    "    counts_per_user[counts_per_user==5]\n",
    "    .index)\n",
    "\n",
    "all_seen_rating_df = (\n",
    "    target_rating_df\n",
    "    [target_rating_df.user_id.isin(all_seen_user_ids)])\n",
    "\n",
    "all_seen_rating_df.sample(5)"
   ]
  },
  {
   "cell_type": "markdown",
   "metadata": {},
   "source": [
    "유저가 Before Sunrise, Before Sunset, Cube, Identity, Saw에 대해 평가한 점수를 바탕으로 \n",
    "유저 별로 각 영화를 어떻게 평가헀는지 알기 위해서 `user_id`를 인덱스로, `title`를 칼럼으로 하는 피벗테이블을 구성합니다. "
   ]
  },
  {
   "cell_type": "code",
   "execution_count": 16,
   "metadata": {},
   "outputs": [
    {
     "data": {
      "text/html": [
       "<div>\n",
       "<style scoped>\n",
       "    .dataframe tbody tr th:only-of-type {\n",
       "        vertical-align: middle;\n",
       "    }\n",
       "\n",
       "    .dataframe tbody tr th {\n",
       "        vertical-align: top;\n",
       "    }\n",
       "\n",
       "    .dataframe thead th {\n",
       "        text-align: right;\n",
       "    }\n",
       "</style>\n",
       "<table border=\"1\" class=\"dataframe\">\n",
       "  <thead>\n",
       "    <tr style=\"text-align: right;\">\n",
       "      <th>title</th>\n",
       "      <th>Before Sunrise</th>\n",
       "      <th>Before Sunset</th>\n",
       "      <th>Cube</th>\n",
       "      <th>Identity</th>\n",
       "      <th>Saw</th>\n",
       "    </tr>\n",
       "    <tr>\n",
       "      <th>user_id</th>\n",
       "      <th></th>\n",
       "      <th></th>\n",
       "      <th></th>\n",
       "      <th></th>\n",
       "      <th></th>\n",
       "    </tr>\n",
       "  </thead>\n",
       "  <tbody>\n",
       "    <tr>\n",
       "      <th>982</th>\n",
       "      <td>3.5</td>\n",
       "      <td>4.0</td>\n",
       "      <td>3.5</td>\n",
       "      <td>3.0</td>\n",
       "      <td>3.0</td>\n",
       "    </tr>\n",
       "    <tr>\n",
       "      <th>1165</th>\n",
       "      <td>4.5</td>\n",
       "      <td>4.0</td>\n",
       "      <td>4.0</td>\n",
       "      <td>2.5</td>\n",
       "      <td>2.5</td>\n",
       "    </tr>\n",
       "    <tr>\n",
       "      <th>1288</th>\n",
       "      <td>4.0</td>\n",
       "      <td>3.5</td>\n",
       "      <td>3.5</td>\n",
       "      <td>3.0</td>\n",
       "      <td>4.0</td>\n",
       "    </tr>\n",
       "    <tr>\n",
       "      <th>2650</th>\n",
       "      <td>4.0</td>\n",
       "      <td>4.0</td>\n",
       "      <td>3.0</td>\n",
       "      <td>4.0</td>\n",
       "      <td>4.5</td>\n",
       "    </tr>\n",
       "    <tr>\n",
       "      <th>2669</th>\n",
       "      <td>4.0</td>\n",
       "      <td>4.0</td>\n",
       "      <td>3.5</td>\n",
       "      <td>4.0</td>\n",
       "      <td>3.5</td>\n",
       "    </tr>\n",
       "    <tr>\n",
       "      <th>...</th>\n",
       "      <td>...</td>\n",
       "      <td>...</td>\n",
       "      <td>...</td>\n",
       "      <td>...</td>\n",
       "      <td>...</td>\n",
       "    </tr>\n",
       "    <tr>\n",
       "      <th>133329</th>\n",
       "      <td>5.0</td>\n",
       "      <td>4.5</td>\n",
       "      <td>5.0</td>\n",
       "      <td>3.0</td>\n",
       "      <td>4.0</td>\n",
       "    </tr>\n",
       "    <tr>\n",
       "      <th>134290</th>\n",
       "      <td>4.0</td>\n",
       "      <td>4.5</td>\n",
       "      <td>4.0</td>\n",
       "      <td>3.0</td>\n",
       "      <td>3.5</td>\n",
       "    </tr>\n",
       "    <tr>\n",
       "      <th>135071</th>\n",
       "      <td>3.5</td>\n",
       "      <td>3.5</td>\n",
       "      <td>3.5</td>\n",
       "      <td>3.5</td>\n",
       "      <td>3.5</td>\n",
       "    </tr>\n",
       "    <tr>\n",
       "      <th>137277</th>\n",
       "      <td>3.5</td>\n",
       "      <td>4.0</td>\n",
       "      <td>3.5</td>\n",
       "      <td>3.5</td>\n",
       "      <td>3.5</td>\n",
       "    </tr>\n",
       "    <tr>\n",
       "      <th>137686</th>\n",
       "      <td>4.0</td>\n",
       "      <td>4.0</td>\n",
       "      <td>4.0</td>\n",
       "      <td>3.5</td>\n",
       "      <td>3.5</td>\n",
       "    </tr>\n",
       "  </tbody>\n",
       "</table>\n",
       "<p>181 rows × 5 columns</p>\n",
       "</div>"
      ],
      "text/plain": [
       "title    Before Sunrise  Before Sunset  Cube  Identity  Saw\n",
       "user_id                                                    \n",
       "982                 3.5            4.0   3.5       3.0  3.0\n",
       "1165                4.5            4.0   4.0       2.5  2.5\n",
       "1288                4.0            3.5   3.5       3.0  4.0\n",
       "2650                4.0            4.0   3.0       4.0  4.5\n",
       "2669                4.0            4.0   3.5       4.0  3.5\n",
       "...                 ...            ...   ...       ...  ...\n",
       "133329              5.0            4.5   5.0       3.0  4.0\n",
       "134290              4.0            4.5   4.0       3.0  3.5\n",
       "135071              3.5            3.5   3.5       3.5  3.5\n",
       "137277              3.5            4.0   3.5       3.5  3.5\n",
       "137686              4.0            4.0   4.0       3.5  3.5\n",
       "\n",
       "[181 rows x 5 columns]"
      ]
     },
     "execution_count": 16,
     "metadata": {},
     "output_type": "execute_result"
    }
   ],
   "source": [
    "ui_matrix = (\n",
    "    all_seen_rating_df\n",
    "    .pivot_table(values='rating',\n",
    "                 index='user_id',\n",
    "                 columns='title'))\n",
    "\n",
    "ui_matrix"
   ]
  },
  {
   "cell_type": "markdown",
   "metadata": {},
   "source": [
    "### (3) 유저와 영화의 편향 제거하기\n",
    "\n",
    "평점 데이터는 숫자 그대로 해석하게 되면 오류가 발생할 수 있습니다. 가령 비포 선라이즈를 4점으로 평가한 두 유저가 무작정 유사하다고 평가할 수는 없습니다.\n",
    "같은 4점이라고 해도 어떤 유저는 4점이면 최고의 극찬을 한 것일 수도 있고, 어떤 유저는 보통 4점은 주기 때문에 그다지 좋게 평가한 것이 아닐 수도 있기 때문입니다. 영화도 마찬가지로 영화 자체의 완성도로 인해 점수를 높게 받은 경우가 있고 적게 받은 경우가 있습니다. 고객의 성향을 잘 드러내기 위해서는 유저나 영화에 따른 편향을 제거해야 합니다. "
   ]
  },
  {
   "cell_type": "code",
   "execution_count": 17,
   "metadata": {},
   "outputs": [
    {
     "data": {
      "image/png": "[encoded data removed]",
      "text/plain": [
       "<Figure size 432x288 with 1 Axes>"
      ]
     },
     "metadata": {
      "needs_background": "light"
     },
     "output_type": "display_data"
    }
   ],
   "source": [
    "plt.title('Avg. Rating per User')\n",
    "ui_matrix.mean(axis=1).hist()\n",
    "plt.show()"
   ]
  },
  {
   "cell_type": "code",
   "execution_count": 18,
   "metadata": {},
   "outputs": [
    {
     "data": {
      "image/png": "[encoded data removed]",
      "text/plain": [
       "<Figure size 432x288 with 1 Axes>"
      ]
     },
     "metadata": {
      "needs_background": "light"
     },
     "output_type": "display_data"
    }
   ],
   "source": [
    "plt.title('Avg. Rating per Movie')\n",
    "ui_matrix.mean(axis=0).plot(kind='bar')\n",
    "plt.show()"
   ]
  },
  {
   "cell_type": "markdown",
   "metadata": {},
   "source": [
    "각 유저의 평균 평점에서 전체 평균을 빼주면 각 유저의 편향을 알 수 있습니다. 마찬가지로 각 영화의 평균 평점에서 전체의 평균을 빼주면 영화의 편향을 계산할 수 있습니다. "
   ]
  },
  {
   "cell_type": "code",
   "execution_count": 19,
   "metadata": {},
   "outputs": [],
   "source": [
    "avg_rating = ui_matrix.mean().mean()\n",
    "\n",
    "# 고객의 편향 계산하기\n",
    "user_bias = ui_matrix.mean(axis=1) - avg_rating\n",
    "# 아이템의 편향 계산하기\n",
    "item_bias = ui_matrix.mean(axis=0) - avg_rating"
   ]
  },
  {
   "cell_type": "markdown",
   "metadata": {},
   "source": [
    "이제 `ui_matrix`에서 유저의 편향과 영화의 편향을 빼면, 보정된 Matrix가 나옵니다."
   ]
  },
  {
   "cell_type": "code",
   "execution_count": 20,
   "metadata": {},
   "outputs": [],
   "source": [
    "adjusted_ui_matrix = (\n",
    "    ui_matrix  # 유저 / 아이템 행렬에서\n",
    "    .sub(user_bias,'rows') # 유저 편향을 제거하고\n",
    "    .sub(item_bias,'columns') # 아이템 편향을 제거하여 보정하자\n",
    ")"
   ]
  },
  {
   "cell_type": "markdown",
   "metadata": {},
   "source": [
    "본래 `ui_matrix` 형태였던 데이터가 `adjusted_ui_matrix`로 바뀌었습니다. "
   ]
  },
  {
   "cell_type": "code",
   "execution_count": 21,
   "metadata": {},
   "outputs": [
    {
     "data": {
      "text/html": [
       "<div>\n",
       "<style scoped>\n",
       "    .dataframe tbody tr th:only-of-type {\n",
       "        vertical-align: middle;\n",
       "    }\n",
       "\n",
       "    .dataframe tbody tr th {\n",
       "        vertical-align: top;\n",
       "    }\n",
       "\n",
       "    .dataframe thead th {\n",
       "        text-align: right;\n",
       "    }\n",
       "</style>\n",
       "<table border=\"1\" class=\"dataframe\">\n",
       "  <thead>\n",
       "    <tr style=\"text-align: right;\">\n",
       "      <th>title</th>\n",
       "      <th>Before Sunrise</th>\n",
       "      <th>Before Sunset</th>\n",
       "      <th>Cube</th>\n",
       "      <th>Identity</th>\n",
       "      <th>Saw</th>\n",
       "    </tr>\n",
       "    <tr>\n",
       "      <th>user_id</th>\n",
       "      <th></th>\n",
       "      <th></th>\n",
       "      <th></th>\n",
       "      <th></th>\n",
       "      <th></th>\n",
       "    </tr>\n",
       "  </thead>\n",
       "  <tbody>\n",
       "    <tr>\n",
       "      <th>982</th>\n",
       "      <td>3.5</td>\n",
       "      <td>4.0</td>\n",
       "      <td>3.5</td>\n",
       "      <td>3.0</td>\n",
       "      <td>3.0</td>\n",
       "    </tr>\n",
       "    <tr>\n",
       "      <th>1165</th>\n",
       "      <td>4.5</td>\n",
       "      <td>4.0</td>\n",
       "      <td>4.0</td>\n",
       "      <td>2.5</td>\n",
       "      <td>2.5</td>\n",
       "    </tr>\n",
       "    <tr>\n",
       "      <th>1288</th>\n",
       "      <td>4.0</td>\n",
       "      <td>3.5</td>\n",
       "      <td>3.5</td>\n",
       "      <td>3.0</td>\n",
       "      <td>4.0</td>\n",
       "    </tr>\n",
       "    <tr>\n",
       "      <th>2650</th>\n",
       "      <td>4.0</td>\n",
       "      <td>4.0</td>\n",
       "      <td>3.0</td>\n",
       "      <td>4.0</td>\n",
       "      <td>4.5</td>\n",
       "    </tr>\n",
       "    <tr>\n",
       "      <th>2669</th>\n",
       "      <td>4.0</td>\n",
       "      <td>4.0</td>\n",
       "      <td>3.5</td>\n",
       "      <td>4.0</td>\n",
       "      <td>3.5</td>\n",
       "    </tr>\n",
       "  </tbody>\n",
       "</table>\n",
       "</div>"
      ],
      "text/plain": [
       "title    Before Sunrise  Before Sunset  Cube  Identity  Saw\n",
       "user_id                                                    \n",
       "982                 3.5            4.0   3.5       3.0  3.0\n",
       "1165                4.5            4.0   4.0       2.5  2.5\n",
       "1288                4.0            3.5   3.5       3.0  4.0\n",
       "2650                4.0            4.0   3.0       4.0  4.5\n",
       "2669                4.0            4.0   3.5       4.0  3.5"
      ]
     },
     "execution_count": 21,
     "metadata": {},
     "output_type": "execute_result"
    }
   ],
   "source": [
    "ui_matrix.head()"
   ]
  },
  {
   "cell_type": "code",
   "execution_count": 22,
   "metadata": {},
   "outputs": [
    {
     "data": {
      "text/html": [
       "<div>\n",
       "<style scoped>\n",
       "    .dataframe tbody tr th:only-of-type {\n",
       "        vertical-align: middle;\n",
       "    }\n",
       "\n",
       "    .dataframe tbody tr th {\n",
       "        vertical-align: top;\n",
       "    }\n",
       "\n",
       "    .dataframe thead th {\n",
       "        text-align: right;\n",
       "    }\n",
       "</style>\n",
       "<table border=\"1\" class=\"dataframe\">\n",
       "  <thead>\n",
       "    <tr style=\"text-align: right;\">\n",
       "      <th>title</th>\n",
       "      <th>Before Sunrise</th>\n",
       "      <th>Before Sunset</th>\n",
       "      <th>Cube</th>\n",
       "      <th>Identity</th>\n",
       "      <th>Saw</th>\n",
       "    </tr>\n",
       "    <tr>\n",
       "      <th>user_id</th>\n",
       "      <th></th>\n",
       "      <th></th>\n",
       "      <th></th>\n",
       "      <th></th>\n",
       "      <th></th>\n",
       "    </tr>\n",
       "  </thead>\n",
       "  <tbody>\n",
       "    <tr>\n",
       "      <th>982</th>\n",
       "      <td>3.392818</td>\n",
       "      <td>3.961878</td>\n",
       "      <td>3.765746</td>\n",
       "      <td>3.442541</td>\n",
       "      <td>3.544751</td>\n",
       "    </tr>\n",
       "    <tr>\n",
       "      <th>1165</th>\n",
       "      <td>4.292818</td>\n",
       "      <td>3.861878</td>\n",
       "      <td>4.165746</td>\n",
       "      <td>2.842541</td>\n",
       "      <td>2.944751</td>\n",
       "    </tr>\n",
       "    <tr>\n",
       "      <th>1288</th>\n",
       "      <td>3.692818</td>\n",
       "      <td>3.261878</td>\n",
       "      <td>3.565746</td>\n",
       "      <td>3.242541</td>\n",
       "      <td>4.344751</td>\n",
       "    </tr>\n",
       "    <tr>\n",
       "      <th>2650</th>\n",
       "      <td>3.392818</td>\n",
       "      <td>3.461878</td>\n",
       "      <td>2.765746</td>\n",
       "      <td>3.942541</td>\n",
       "      <td>4.544751</td>\n",
       "    </tr>\n",
       "    <tr>\n",
       "      <th>2669</th>\n",
       "      <td>3.492818</td>\n",
       "      <td>3.561878</td>\n",
       "      <td>3.365746</td>\n",
       "      <td>4.042541</td>\n",
       "      <td>3.644751</td>\n",
       "    </tr>\n",
       "  </tbody>\n",
       "</table>\n",
       "</div>"
      ],
      "text/plain": [
       "title    Before Sunrise  Before Sunset      Cube  Identity       Saw\n",
       "user_id                                                             \n",
       "982            3.392818       3.961878  3.765746  3.442541  3.544751\n",
       "1165           4.292818       3.861878  4.165746  2.842541  2.944751\n",
       "1288           3.692818       3.261878  3.565746  3.242541  4.344751\n",
       "2650           3.392818       3.461878  2.765746  3.942541  4.544751\n",
       "2669           3.492818       3.561878  3.365746  4.042541  3.644751"
      ]
     },
     "execution_count": 22,
     "metadata": {},
     "output_type": "execute_result"
    }
   ],
   "source": [
    "adjusted_ui_matrix.head()"
   ]
  },
  {
   "cell_type": "markdown",
   "metadata": {},
   "source": [
    "## 3. 유사도의 개념\n",
    "\n",
    "이제 각 유저가 영화에 대해 남긴 평점을 이용해 유저끼리 얼마나 비슷한지 알아봐야 합니다. 두 유저가 비슷하다는 건 어떻게 알 수 있을까요? 영화에 대한 평가가 비슷하면 유사한 취향을 가졌다고 볼 수 있을 것입니다. 영화에 대한 평점이 비슷하다는 것은 어떻게 알 수 있을까요? 먼저, 영화별로 매긴 별점을 빼보았는데 값의 차이가 적다면(= 거리가 가깝다면) 두 사람의 영화 취향이 비슷하다고 볼 수 있을 것입니다. 혹은 서로 긍정적으로 평가한 영화와 부정적으로 평가한 영화가 같다면(= 방향성이 비슷하다면) 두 사람의 영화 취향이 비슷하다고 볼 수 있을 것입니다. <br>\n",
    "\n",
    "유사도를 계산하는 알고리즘은 다양한 분야에서 사용되는데, 기본적으로는 다음 세가지 지표가 많이 사용됩니다. \n",
    "- 거리를 활용한 유사도: 맨하탄 거리 유사도, 유클리디안 거리 유사도\n",
    "- 방향성을 이용한 유사도 : 코사인 유사도\n",
    "\n",
    "이외에도 유사도를 설정하는 방법은 다양합니다. 분야마다 적합한 유사도가 따로 존재합니다. 앞서 만든 편향이 제거된 평점 데이터에 유사도 알고리즘을 적용하여 계산해본다면 어떻게 해야 할까요? 이에 대한 이해를 돕기 위해 아래의 예시를 살펴보도록 하겠습니다. 거리 및 방향성을 이용한 유사도는 2차원 그래프에 그려 시각화하면 이해하기 쉽습니다. 2차원에 시각화하기 위해 예시로 Before Sunrise와 Saw 두 영화를 모두 본 사람에 한해서 무작위로 5명을 추출하였습니다."
   ]
  },
  {
   "cell_type": "code",
   "execution_count": 23,
   "metadata": {},
   "outputs": [
    {
     "data": {
      "text/html": [
       "<div>\n",
       "<style scoped>\n",
       "    .dataframe tbody tr th:only-of-type {\n",
       "        vertical-align: middle;\n",
       "    }\n",
       "\n",
       "    .dataframe tbody tr th {\n",
       "        vertical-align: top;\n",
       "    }\n",
       "\n",
       "    .dataframe thead th {\n",
       "        text-align: right;\n",
       "    }\n",
       "</style>\n",
       "<table border=\"1\" class=\"dataframe\">\n",
       "  <thead>\n",
       "    <tr style=\"text-align: right;\">\n",
       "      <th>title</th>\n",
       "      <th>Before Sunrise</th>\n",
       "      <th>Saw</th>\n",
       "    </tr>\n",
       "    <tr>\n",
       "      <th>user_id</th>\n",
       "      <th></th>\n",
       "      <th></th>\n",
       "    </tr>\n",
       "  </thead>\n",
       "  <tbody>\n",
       "    <tr>\n",
       "      <th>47409</th>\n",
       "      <td>4.392818</td>\n",
       "      <td>4.544751</td>\n",
       "    </tr>\n",
       "    <tr>\n",
       "      <th>30123</th>\n",
       "      <td>3.192818</td>\n",
       "      <td>4.344751</td>\n",
       "    </tr>\n",
       "    <tr>\n",
       "      <th>6881</th>\n",
       "      <td>3.492818</td>\n",
       "      <td>3.144751</td>\n",
       "    </tr>\n",
       "    <tr>\n",
       "      <th>125794</th>\n",
       "      <td>3.992818</td>\n",
       "      <td>2.644751</td>\n",
       "    </tr>\n",
       "    <tr>\n",
       "      <th>120133</th>\n",
       "      <td>3.792818</td>\n",
       "      <td>3.444751</td>\n",
       "    </tr>\n",
       "  </tbody>\n",
       "</table>\n",
       "</div>"
      ],
      "text/plain": [
       "title    Before Sunrise       Saw\n",
       "user_id                          \n",
       "47409          4.392818  4.544751\n",
       "30123          3.192818  4.344751\n",
       "6881           3.492818  3.144751\n",
       "125794         3.992818  2.644751\n",
       "120133         3.792818  3.444751"
      ]
     },
     "execution_count": 23,
     "metadata": {},
     "output_type": "execute_result"
    }
   ],
   "source": [
    "sample_cases = (\n",
    "    adjusted_ui_matrix\n",
    "    [[\"Before Sunrise\",\"Saw\"]]\n",
    "    .dropna()\n",
    "    .sample(n=5, random_state=2)\n",
    ").copy()\n",
    "sample_cases"
   ]
  },
  {
   "cell_type": "code",
   "execution_count": 24,
   "metadata": {},
   "outputs": [
    {
     "data": {
      "image/png": "[encoded data removed]",
      "text/plain": [
       "<Figure size 432x432 with 1 Axes>"
      ]
     },
     "metadata": {
      "needs_background": "light"
     },
     "output_type": "display_data"
    }
   ],
   "source": [
    "ax = sample_cases.plot(\n",
    "    kind='scatter', x='Before Sunrise', y='Saw',\n",
    "    c=['red','green','blue','purple','orange'],\n",
    "    xlim=[0, 5.5], ylim=[0, 5.5], figsize=(6,6))\n",
    "\n",
    "sample_cases.index = ['red','green','blue','purple','orange']\n",
    "plt.title(\"What is Similarity?\")\n",
    "plt.xticks([0,1,2,3,4,5,6])\n",
    "plt.yticks([0,1,2,3,4,5,6])\n",
    "plt.show()"
   ]
  },
  {
   "cell_type": "markdown",
   "metadata": {},
   "source": [
    "여기서 우리는 노란색 유저를 봅시다. 노란색 유저와 가장 유사한 취향을 가졌다고 판단되는 사람은 파란색 유저입니다. 직관적으로 보았을 때, 점의 위치가 비슷하다는 것은 Saw에 대한 선호도와 Before Sunrise에 대한 선호도가 비슷하다고 판단되기 때문입니다. 그렇다면 그 다음으로 노란색 유저와 **유사한** 취향을 가진 유저는 누구일까요?\n",
    "\n",
    "1. 보라색\n",
    "2. 빨간색\n",
    "3. 초록색\n",
    "\n",
    "이에 대한 답은 사실 Case-By-Case 입니다. 거리를 기준으로 **유사함**을 생각한다면, 우리는 가장 먼저 가깝다고 생각할 수 있는 것은 보라색 유저입니다. 근데 조금 다르게 해석해 볼 수 있습니다. 보라색 유저의 취향은 \"saw\"보다 \"Before Sunrise\"와 같은 로맨스 물을 더 좋아하는 취향으로 비추어 집니다. 그러면 우리는 단순히 거리로 해석하는 것이 아니라 아래와 같이, 각도를 기준으로 판단할 수 있습니다. "
   ]
  },
  {
   "cell_type": "code",
   "execution_count": 25,
   "metadata": {},
   "outputs": [
    {
     "data": {
      "image/png": "[encoded data removed]",
      "text/plain": [
       "<Figure size 432x432 with 1 Axes>"
      ]
     },
     "metadata": {
      "needs_background": "light"
     },
     "output_type": "display_data"
    }
   ],
   "source": [
    "ax = sample_cases.plot(kind='scatter',\n",
    "                  x='Before Sunrise',\n",
    "                  y='Saw',\n",
    "                  c=['red','green','blue','purple','orange'],\n",
    "                  xlim=[0, 5.5],\n",
    "                  ylim=[0, 5.5],\n",
    "                  figsize=(6,6))\n",
    "\n",
    "sample_cases.index = ['red','green','blue','purple','orange']\n",
    "plt.plot([0,6],[0,6],'--')\n",
    "plt.title(\"What is Similarity?\")\n",
    "plt.xticks([0,1,2,3,4,5,6])\n",
    "plt.yticks([0,1,2,3,4,5,6])\n",
    "plt.show()"
   ]
  },
  {
   "cell_type": "markdown",
   "metadata": {},
   "source": [
    "주황색과 빨간색은 파란 점선을 기준으로 비슷한 위치에 분포하고 있습니다. 이 의미는 주황색 유저와 빨간색 유저가 Saw와 Before Sunrise에 대해서는 비교적 비슷하게 좋아하지만, 보라색 유저는 비포 선라이즈는 좋아하는 반면 쏘우는 그저 그렇게 생각한다고 볼 수 있습니다. 이렇듯 거리나 각도로 유사도를 판단할 수 있으며, 도메인마다 그 의미가 다를 수 있습니다. 이제 유사도를 직접 계산해 취향의 유사함을 수치로 구해보도록 하겠습니다."
   ]
  },
  {
   "cell_type": "markdown",
   "metadata": {},
   "source": [
    "### (1) 거리($L_p norm$)를 활용한 유사도 계산\n",
    "\n",
    "거리 유사도 계산 방법에는 (1) 맨해튼 거리 유사도 식과 (2) 유클리디안 거리 유사도 식이 있습니다. 각각에 대해 알아봅시다."
   ]
  },
  {
   "cell_type": "markdown",
   "metadata": {},
   "source": [
    "#### 맨해튼 거리 ($L_1\\ Norm$)\n",
    "\n",
    "맨해튼 거리는 뉴욕의 맨해튼의 거리 모양을 따서 지은 이름으로, L1 노름(Norm)이라고도 부릅니다. 맨바둑판에서 어떤 지점A에서 지점B까지를 대각선 없이 가는 거리를 측정한다고 했을 때, 그 방법으로 거리를 구하는 것이 맨하튼 거리입니다. 이를 수식으로 표현하면 아래와 같습니다.\n",
    "$$\n",
    "\\mathbf{dist(X,Y) = \\sum_{i=1}^n(|x_i - y_i|)}\n",
    "$$\n",
    "\n",
    "거리가 멀수록 유사도는 낮아져야 하므로, 맨하탄 거리값을 활용하여 아래와 같이 맨하탄 거리 유사도를 계산합니다.\n",
    "$$\n",
    "\\mathbf{sim(X,Y) = \\frac{1}{1+dist(X,Y)}}\n",
    "$$"
   ]
  },
  {
   "cell_type": "code",
   "execution_count": 26,
   "metadata": {},
   "outputs": [],
   "source": [
    "def l1_distance(x, y):\n",
    "    return np.sum(np.abs(x - y))"
   ]
  },
  {
   "cell_type": "markdown",
   "metadata": {},
   "source": [
    "앞서 구해놓은 `sample_cases`에서 두 유저씩 뽑아 pair를 만든 후, 각 페어의 맨하튼 거리를 구해보겠습니다."
   ]
  },
  {
   "cell_type": "code",
   "execution_count": 27,
   "metadata": {},
   "outputs": [
    {
     "name": "stdout",
     "output_type": "stream",
     "text": [
      "   red과  green의 맨해튼 거리  : 1.400\n",
      "   red과   blue의 맨해튼 거리  : 2.300\n",
      "   red과 purple의 맨해튼 거리  : 2.300\n",
      "   red과 orange의 맨해튼 거리  : 1.700\n",
      " green과   blue의 맨해튼 거리  : 1.500\n",
      " green과 purple의 맨해튼 거리  : 2.500\n",
      " green과 orange의 맨해튼 거리  : 1.500\n",
      "  blue과 purple의 맨해튼 거리  : 1.000\n",
      "  blue과 orange의 맨해튼 거리  : 0.600\n",
      "purple과 orange의 맨해튼 거리  : 1.000\n"
     ]
    }
   ],
   "source": [
    "for (c1_name, c1_df), (c2_name, c2_df) in combinations(sample_cases.iterrows(), 2):\n",
    "    dist = l1_distance(c1_df.values, c2_df.values)\n",
    "    print(f\"{c1_name:>6}과 {c2_name:>6}의 맨해튼 거리  : {dist:.3f}\")"
   ]
  },
  {
   "cell_type": "markdown",
   "metadata": {},
   "source": [
    "거리를 사용하여 유사도를 구해보겠습니다."
   ]
  },
  {
   "cell_type": "code",
   "execution_count": 28,
   "metadata": {},
   "outputs": [
    {
     "name": "stdout",
     "output_type": "stream",
     "text": [
      "   red과  green의 맨해튼 유사도 : 0.417\n",
      "   red과   blue의 맨해튼 유사도 : 0.303\n",
      "   red과 purple의 맨해튼 유사도 : 0.303\n",
      "   red과 orange의 맨해튼 유사도 : 0.370\n",
      " green과   blue의 맨해튼 유사도 : 0.400\n",
      " green과 purple의 맨해튼 유사도 : 0.286\n",
      " green과 orange의 맨해튼 유사도 : 0.400\n",
      "  blue과 purple의 맨해튼 유사도 : 0.500\n",
      "  blue과 orange의 맨해튼 유사도 : 0.625\n",
      "purple과 orange의 맨해튼 유사도 : 0.500\n"
     ]
    }
   ],
   "source": [
    "for (c1_name, c1_df), (c2_name, c2_df) in combinations(sample_cases.iterrows(),2):\n",
    "    dist = l1_distance(c1_df.values, c2_df.values)\n",
    "    sim = 1/(1+dist)    \n",
    "    print(f\"{c1_name:>6}과 {c2_name:>6}의 맨해튼 유사도 : {sim:.3f}\") "
   ]
  },
  {
   "cell_type": "markdown",
   "metadata": {},
   "source": [
    "맨해튼 거리를 기준으로 하였을 때, 보라색와 주황색의 유사도는 빨간색와 주황색의 유사도보다 훨씬 높은 수치를 보여줍니다. "
   ]
  },
  {
   "cell_type": "markdown",
   "metadata": {},
   "source": [
    "#### 유클리디안 거리 ($L_2\\ Norm$)\n",
    "\n",
    "유클리디안 거리는 직각삼각형에서 90도 각의 대변의 길이를 구하는 공식을 사용해 두 점 사이의 거리를 구하는 방법입니다. 거리값을 이용해 유사도를 구하는 식은 맨하튼 거리 유사도의 방식과 동일합니다.\n",
    "\n",
    "$$\n",
    "\\mathbf{Dist(X,Y) = \\sqrt{\\sum_{i=1}^{n}(x_i-y_i)^2}}\n",
    "$$"
   ]
  },
  {
   "cell_type": "code",
   "execution_count": 29,
   "metadata": {},
   "outputs": [],
   "source": [
    "def l2_distance(x, y):\n",
    "    return np.sqrt(np.sum(np.square(x - y)))"
   ]
  },
  {
   "cell_type": "code",
   "execution_count": 30,
   "metadata": {},
   "outputs": [
    {
     "name": "stdout",
     "output_type": "stream",
     "text": [
      "   red과  green의 유클리드 거리  : 1.217\n",
      "   red과   blue의 유클리드 거리  : 1.664\n",
      "   red과 purple의 유클리드 거리  : 1.942\n",
      "   red과 orange의 유클리드 거리  : 1.253\n",
      " green과   blue의 유클리드 거리  : 1.237\n",
      " green과 purple의 유클리드 거리  : 1.879\n",
      " green과 orange의 유클리드 거리  : 1.082\n",
      "  blue과 purple의 유클리드 거리  : 0.707\n",
      "  blue과 orange의 유클리드 거리  : 0.424\n",
      "purple과 orange의 유클리드 거리  : 0.825\n"
     ]
    }
   ],
   "source": [
    "for (c1_name, c1_df), (c2_name, c2_df) in combinations(sample_cases.iterrows(),2):\n",
    "    dist = l2_distance(c1_df.values, c2_df.values)\n",
    "    sim = 1/(1+dist)\n",
    "    print(f\"{c1_name:>6}과 {c2_name:>6}의 유클리드 거리  : {dist:.3f}\")"
   ]
  },
  {
   "cell_type": "code",
   "execution_count": 31,
   "metadata": {},
   "outputs": [
    {
     "name": "stdout",
     "output_type": "stream",
     "text": [
      "   red과  green의 유클리드 유사도 : 0.451\n",
      "   red과   blue의 유클리드 유사도 : 0.375\n",
      "   red과 purple의 유클리드 유사도 : 0.340\n",
      "   red과 orange의 유클리드 유사도 : 0.444\n",
      " green과   blue의 유클리드 유사도 : 0.447\n",
      " green과 purple의 유클리드 유사도 : 0.347\n",
      " green과 orange의 유클리드 유사도 : 0.480\n",
      "  blue과 purple의 유클리드 유사도 : 0.586\n",
      "  blue과 orange의 유클리드 유사도 : 0.702\n",
      "purple과 orange의 유클리드 유사도 : 0.548\n"
     ]
    }
   ],
   "source": [
    "for (c1_name, c1_df), (c2_name, c2_df) in combinations(sample_cases.iterrows(),2):\n",
    "    dist = l2_distance(c1_df.values, c2_df.values)\n",
    "    sim = 1/(1+dist)\n",
    "    print(f\"{c1_name:>6}과 {c2_name:>6}의 유클리드 유사도 : {sim:.3f}\") "
   ]
  },
  {
   "cell_type": "markdown",
   "metadata": {},
   "source": [
    "유클리디안 거리를 기준으로 하였을 때, 보라색와 주황색의 유사도는 빨간색와 주황색의 유사도보다 높게 나왓지만, 맨해튼 거리를 했을 때보다는 그 차이가 줄어들었습니다.\n",
    "맨해튼 거리와 유클리디안 거리는 둘 다 거리의 차이를 통해 유사도를 계산하지만, **각 축의 차이를 더 반영해야 할 때에는 맨해튼 거리를, 전반적인 취향을 종합하여 반영해야 할때에는 유클리디안 거리를 활용합니다.** 좀 더 자세히 설명하면, 한 축이라도 큰 차이가 그 차이를 그대로 유사도가 먼 것으로 반영하겠다면 맨해튼 거리를 사용하여 유사도를 계산하면 됩니다. 반면, 유클리디안 거리를 이용하면 한 축을 기준으로는 차이가 많이 나지만 다른 축을 기준으로는 가까운 경우와 양쪽 축에서 모두 중간 정도 거리의 차이가 있는 경우의 유사도를 비슷하게 볼 것입니다. "
   ]
  },
  {
   "cell_type": "markdown",
   "metadata": {},
   "source": [
    "### (2) 방향성을 이용한 유사도 계산\n",
    "\n",
    "코사인 유사도는 두 아이템 벡터의 각도가 얼마나 차이나는지를 계산하는 방식입니다. 각도 상으로 같은 선상에 있다면, 직선 거리는 멀더라도 유사하다고 보는 것이죠. \n",
    "\n",
    "$$\n",
    "\\mathbf{Cosine\\_Similarity(X,Y) = \\frac{\\sum_{i=1}^{n}x_i y_i}{\\sqrt{\\sum_{i=1}^{n}x_i^2} \\sqrt{\\sum_{i=1}^{n}y_i^2}}}\n",
    "$$"
   ]
  },
  {
   "cell_type": "code",
   "execution_count": 32,
   "metadata": {},
   "outputs": [],
   "source": [
    "def cosine_similarity(x, y):\n",
    "    return np.sum(x*y)/(np.sqrt(np.sum(x**2)) * np.sqrt(np.sum(y**2)))"
   ]
  },
  {
   "cell_type": "code",
   "execution_count": 33,
   "metadata": {},
   "outputs": [
    {
     "name": "stdout",
     "output_type": "stream",
     "text": [
      "   red과  green의 유사도 : 0.991\n",
      "   red과   blue의 유사도 : 0.998\n",
      "   red과 purple의 유사도 : 0.976\n",
      "   red과 orange의 유사도 : 0.998\n",
      " green과   blue의 유사도 : 0.979\n",
      " green과 purple의 유사도 : 0.939\n",
      " green과 orange의 유사도 : 0.980\n",
      "  blue과 purple의 유사도 : 0.989\n",
      "  blue과 orange의 유사도 : 1.000\n",
      "purple과 orange의 유사도 : 0.988\n"
     ]
    }
   ],
   "source": [
    "for (c1_name, c1_df), (c2_name, c2_df) in combinations(sample_cases.iterrows(),2):\n",
    "    sim = cosine_similarity(c1_df.values, c2_df.values)\n",
    "    print(f\"{c1_name:>6}과 {c2_name:>6}의 유사도 : {sim:.3f}\")    "
   ]
  },
  {
   "cell_type": "markdown",
   "metadata": {},
   "source": [
    "결과를 볼까요? 거리를 이용한 유사도를 계산할 때와는 서로 다른 결과가 나왔습니다. 빨간색과 주황색의 유사도가 보라색와 주황색의 유사도보다 높게 나왔습니다. 앞서 그렸던 그래프를 다시 보면, 파란색 점선을 기준으로 빨간색과 주황색은 파란선 근처에 있지만, 보라색은 좀 떨어져 있습니다. 각 유저의 평점을 다시 봐볼까요?"
   ]
  },
  {
   "cell_type": "code",
   "execution_count": 34,
   "metadata": {},
   "outputs": [
    {
     "data": {
      "text/html": [
       "<div>\n",
       "<style scoped>\n",
       "    .dataframe tbody tr th:only-of-type {\n",
       "        vertical-align: middle;\n",
       "    }\n",
       "\n",
       "    .dataframe tbody tr th {\n",
       "        vertical-align: top;\n",
       "    }\n",
       "\n",
       "    .dataframe thead th {\n",
       "        text-align: right;\n",
       "    }\n",
       "</style>\n",
       "<table border=\"1\" class=\"dataframe\">\n",
       "  <thead>\n",
       "    <tr style=\"text-align: right;\">\n",
       "      <th>title</th>\n",
       "      <th>Before Sunrise</th>\n",
       "      <th>Saw</th>\n",
       "    </tr>\n",
       "  </thead>\n",
       "  <tbody>\n",
       "    <tr>\n",
       "      <th>red</th>\n",
       "      <td>4.392818</td>\n",
       "      <td>4.544751</td>\n",
       "    </tr>\n",
       "    <tr>\n",
       "      <th>green</th>\n",
       "      <td>3.192818</td>\n",
       "      <td>4.344751</td>\n",
       "    </tr>\n",
       "    <tr>\n",
       "      <th>blue</th>\n",
       "      <td>3.492818</td>\n",
       "      <td>3.144751</td>\n",
       "    </tr>\n",
       "    <tr>\n",
       "      <th>purple</th>\n",
       "      <td>3.992818</td>\n",
       "      <td>2.644751</td>\n",
       "    </tr>\n",
       "    <tr>\n",
       "      <th>orange</th>\n",
       "      <td>3.792818</td>\n",
       "      <td>3.444751</td>\n",
       "    </tr>\n",
       "  </tbody>\n",
       "</table>\n",
       "</div>"
      ],
      "text/plain": [
       "title   Before Sunrise       Saw\n",
       "red           4.392818  4.544751\n",
       "green         3.192818  4.344751\n",
       "blue          3.492818  3.144751\n",
       "purple        3.992818  2.644751\n",
       "orange        3.792818  3.444751"
      ]
     },
     "execution_count": 34,
     "metadata": {},
     "output_type": "execute_result"
    }
   ],
   "source": [
    "sample_cases"
   ]
  },
  {
   "cell_type": "markdown",
   "metadata": {},
   "source": [
    "빨간 유저는 두 영화에 각각 4.39, 4.5 정도의 비슷한 수준의 평점을 주었고, 주황 유저는 두 영화에 각각 3.79, 3.4 정도의 비슷한 수준의 평점을 두었습니다. 코사인 유사도는 빨간색 유저와 주황색 유저가 Saw와 Before Sunrise를 좋아하는 수준이 비슷하다는 점을 이용해 유사도를 계산한 것입니다. 영화 취향에 대해 두 유저가 같은 방향성을 가지고 있다고 보는 것이죠. <br>\n",
    "유사도 알고리즘은 이렇듯 유사함을 어떻게 정의하는가에 따라 서로 다른 수식을 적용해야 합니다. <올바른 유사도가 무엇인가?>에 대한 답은 늘 데이터에 따라 달라집니다. 일반적으로 현업 필터링에서 적용할 때에는 다양한 유사도 수식을 데이터에 적용해 의도했던 방향으로 순위가 매겨지거나, 결과가 도출되는지 확인해보고 유사도 수식을 결정하게 됩니다. "
   ]
  },
  {
   "cell_type": "markdown",
   "metadata": {},
   "source": [
    "----\n",
    "\n",
    "### \\[ Additional \\]\n",
    "\n",
    "유사도를 계산할 때, 피어슨 상관 계수도 자주 이용됩니다. 피어슨 상관 계수는 두 변수 간 선형 상관 관계를 계량화한 수치로, \n",
    "* +1 : 완벽한 양의 상관 관계\n",
    "* 0 : 상관 관계가 전혀 없음\n",
    "* -1 : 완벽한 음의 상관 관계\n",
    "\n",
    "를 뜻합니다. 수식은 \n",
    "\n",
    "$$\n",
    "\\mathbf{R(X,Y) = \\frac{\\sum_{i=1}^{n} (x_i-\\bar{x}) (y_i-\\bar{y})}{\\sqrt{\\sum_{i=1}^{n}(x_i-\\bar{x})^2} \\sqrt{\\sum_{i=1}^{n}(y_i-\\bar{y})^2}}}\n",
    "$$\n",
    "\n",
    "위 수식을 자세히 보면 Cosine Similarity와 닮아 있습니다. Cosine Similarity를 계산하기 전에 각 Vector을 평균 값으로 빼주는 작업이 들어가 있습니다. 그래서 구현은 아래와 같이 손쉽게 할 수 있습니다."
   ]
  },
  {
   "cell_type": "code",
   "execution_count": 35,
   "metadata": {},
   "outputs": [],
   "source": [
    "def pearson_coefficient(x, y):\n",
    "    num = np.sum((x - x.mean()) * (y - y.mean()))\n",
    "    denom = np.sqrt(np.sum((x-x.mean())**2)) * np.sqrt(np.sum((y-y.mean())**2))\n",
    "    return num / denom"
   ]
  },
  {
   "cell_type": "code",
   "execution_count": 36,
   "metadata": {},
   "outputs": [
    {
     "name": "stdout",
     "output_type": "stream",
     "text": [
      "   red과  green의 유사도 : 1.000\n",
      "   red과   blue의 유사도 : -1.000\n",
      "   red과 purple의 유사도 : -1.000\n",
      "   red과 orange의 유사도 : -1.000\n",
      " green과   blue의 유사도 : -1.000\n",
      " green과 purple의 유사도 : -1.000\n",
      " green과 orange의 유사도 : -1.000\n",
      "  blue과 purple의 유사도 : 1.000\n",
      "  blue과 orange의 유사도 : 1.000\n",
      "purple과 orange의 유사도 : 1.000\n"
     ]
    }
   ],
   "source": [
    "for (c1_name, c1_df), (c2_name, c2_df) in combinations(sample_cases.iterrows(),2):\n",
    "    sim = pearson_coefficient(c1_df.values, c2_df.values)\n",
    "    print(f\"{c1_name:>6}과 {c2_name:>6}의 유사도 : {sim:.3f}\")  "
   ]
  },
  {
   "cell_type": "markdown",
   "metadata": {},
   "source": [
    "현재 데이터는 \"Saw\"와 \"Before Sunrise\"로만 이루어져 있기 때문에, 피어슨 상관계수는 극단적으로 1과 -1로만 나타나게 됩니다."
   ]
  },
  {
   "cell_type": "markdown",
   "metadata": {},
   "source": [
    "#  \n",
    "\n",
    "---\n",
    "\n",
    "    Copyright(c) 2020 by Public AI. All rights reserved.\n",
    "    Writen by PAI, SeonYoul Choi ( best10@publicai.co.kr )  last updated on 2020/06/03\n",
    "\n",
    "\n",
    "---"
   ]
  }
 ],
 "metadata": {
  "kernelspec": {
   "display_name": "Python 3",
   "language": "python",
   "name": "python3"
  },
  "language_info": {
   "codemirror_mode": {
    "name": "ipython",
    "version": 3
   },
   "file_extension": ".py",
   "mimetype": "text/x-python",
   "name": "python",
   "nbconvert_exporter": "python",
   "pygments_lexer": "ipython3",
   "version": "3.7.9"
  },
  "toc": {
   "base_numbering": 1,
   "nav_menu": {},
   "number_sections": false,
   "sideBar": true,
   "skip_h1_title": false,
   "title_cell": "Table of Contents",
   "title_sidebar": "Contents",
   "toc_cell": false,
   "toc_position": {
    "height": "calc(100% - 180px)",
    "left": "10px",
    "top": "150px",
    "width": "165px"
   },
   "toc_section_display": true,
   "toc_window_display": false
  },
  "varInspector": {
   "cols": {
    "lenName": 16,
    "lenType": 16,
    "lenVar": 40
   },
   "kernels_config": {
    "python": {
     "delete_cmd_postfix": "",
     "delete_cmd_prefix": "del ",
     "library": "var_list.py",
     "varRefreshCmd": "print(var_dic_list())"
    },
    "r": {
     "delete_cmd_postfix": ") ",
     "delete_cmd_prefix": "rm(",
     "library": "var_list.r",
     "varRefreshCmd": "cat(var_dic_list()) "
    }
   },
   "types_to_exclude": [
    "module",
    "function",
    "builtin_function_or_method",
    "instance",
    "_Feature"
   ],
   "window_display": false
  }
 },
 "nbformat": 4,
 "nbformat_minor": 4
}
